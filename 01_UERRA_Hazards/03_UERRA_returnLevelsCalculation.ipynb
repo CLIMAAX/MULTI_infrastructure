{
 "cells": [
  {
   "cell_type": "markdown",
   "metadata": {},
   "source": [
    "## Hazard assessment methodology\n",
    "This notebook calculates return levels for extreme precipitation events based on annual maximum precipitation data."
   ]
  },
  {
   "cell_type": "code",
   "execution_count": null,
   "metadata": {},
   "outputs": [],
   "source": [
    "import numpy as np\n",
    "import xarray as xr\n",
    "\n",
    "from scipy.stats import gumbel_r"
   ]
  },
  {
   "cell_type": "markdown",
   "metadata": {},
   "source": [
    "We read the NetCDF dataset containing daily precipitation data (tp) "
   ]
  },
  {
   "cell_type": "code",
   "execution_count": null,
   "metadata": {},
   "outputs": [],
   "source": [
    "# Load the dataset\n",
    "ds_prec = xr.open_dataset('../data_conv/TOT_PREC_italy_UERRA.nc')\n",
    "daily_precip = ds_prec['tp']\n",
    "\n",
    "# Calculate the maximum one-day precipitation per year\n",
    "annual_max_precip = daily_precip.resample(time='YE').max()\n",
    "print(annual_max_precip)"
   ]
  },
  {
   "cell_type": "markdown",
   "metadata": {},
   "source": [
    "We define Return Periods and Exceedance Probabilities: Return periods (e.g., 10, 20, 30, 50, 100, 150 years) are specified, and their corresponding exceedance probabilities are calculated. The exceedance probability represents the likelihood of surpassing a certain precipitation threshold in any given year"
   ]
  },
  {
   "cell_type": "code",
   "execution_count": null,
   "metadata": {},
   "outputs": [],
   "source": [
    "return_periods = np.array([10, 20, 30, 50, 100, 150])\n",
    "exceedance_probs = 1 - (1 / return_periods)\n",
    "\n",
    "# Prepare a new dataset to store return levels for each period and each grid cell\n",
    "return_levels_ds = xr.Dataset()"
   ]
  },
  {
   "cell_type": "markdown",
   "metadata": {},
   "source": [
    "The notebook loops over every grid cell (longitude, and latitude), extracting the annual maximum precipitation values for each. For each grid cell the Gumbel distribution (gumbel_r.fit()) is fitted to the annual maxima series to determine location (loc) and scale (scale) parameters. The we calculate the return levels for the specified return periods using the previous parameters."
   ]
  },
  {
   "cell_type": "code",
   "execution_count": null,
   "metadata": {},
   "outputs": [],
   "source": [
    "# Loop over each grid cell (x, y) and fit the Weibull distribution\n",
    "for x in annual_max_precip['x']:\n",
    "    for y in annual_max_precip['y']:\n",
    "        # Extract the annual maximum series for the current grid cell\n",
    "        annual_max_values = annual_max_precip.sel(x=x, y=y).values\n",
    "        annual_max_values = annual_max_values[~np.isnan(annual_max_values)]  # Remove NaNs\n",
    "\n",
    "        if len(annual_max_values) > 0:\n",
    "            # Fit the Gumbel distribution to the annual maxima for this grid cell\n",
    "            loc, scale = gumbel_r.fit(annual_max_values)\n",
    "\n",
    "            # Calculate the exceedance probabilities for the return periods\n",
    "            exceedance_probs = 1 - (1 / np.array(return_periods))\n",
    "\n",
    "            # Calculate return levels for the specified return periods using the Gumbel parameters\n",
    "            return_levels = gumbel_r.ppf(exceedance_probs, loc, scale)\n",
    "\n",
    "\n",
    "            # Store return levels in the dataset for each return period\n",
    "            for rp, rl in zip(return_periods, return_levels):\n",
    "                return_period_label = f\"return_period_{rp}_y\"\n",
    "                if return_period_label not in return_levels_ds:\n",
    "                    return_levels_ds[return_period_label] = xr.full_like(annual_max_precip.isel(time=0), np.nan)\n",
    "                return_levels_ds[return_period_label].loc[{'x': x, 'y': y}] = rl\n",
    "\n",
    "# Add coordinates and attributes to the new dataset\n",
    "return_levels_ds['x'] = annual_max_precip['x']\n",
    "return_levels_ds['y'] = annual_max_precip['y']\n",
    "return_levels_ds.attrs['description'] = 'Return levels for specified return periods based on GEV distribution fit'"
   ]
  },
  {
   "cell_type": "markdown",
   "metadata": {},
   "source": [
    "The \"return_levels_ds\" dataset represents the precipitation amount expected for each return period in each grid cell."
   ]
  },
  {
   "cell_type": "code",
   "execution_count": null,
   "metadata": {},
   "outputs": [],
   "source": [
    "# Save the return levels to a NetCDF file\n",
    "return_levels_ds.to_netcdf('../indicators/uerra/return_levels_gumbel.nc')\n",
    "return_levels_ds"
   ]
  }
 ],
 "metadata": {
  "kernelspec": {
   "display_name": "climax",
   "language": "python",
   "name": "python3"
  },
  "language_info": {
   "name": "python",
   "version": "3.11.9"
  }
 },
 "nbformat": 4,
 "nbformat_minor": 2
}
