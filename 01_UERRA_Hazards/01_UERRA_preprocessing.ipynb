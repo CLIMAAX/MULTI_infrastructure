{
 "cells": [
  {
   "attachments": {},
   "cell_type": "markdown",
   "metadata": {},
   "source": [
    "# Pre-processing UERRA and EURO-CORDEX datasets\n",
    "\n",
    "- A workflow from the CLIMAAX [Handbook](https://handbook.climaax.eu/) and [MULTI_infrastructure](https://github.com/CLIMAAX/MULTI_infrastructure) GitHub repository.\n",
    "- See our [how to use risk workflows](https://handbook.climaax.eu/notebooks/workflows_how_to.html) page for information on how to run this notebook."
   ]
  },
  {
   "cell_type": "markdown",
   "metadata": {
    "editable": true,
    "slideshow": {
     "slide_type": ""
    },
    "tags": []
   },
   "source": [
    "## Preparation Work\n",
    "\n",
    "### Load libraries"
   ]
  },
  {
   "cell_type": "code",
   "execution_count": null,
   "metadata": {
    "editable": true,
    "slideshow": {
     "slide_type": ""
    },
    "tags": []
   },
   "outputs": [],
   "source": [
    "import itertools\n",
    "import os\n",
    "\n",
    "import cdsapi\n",
    "import dask.diagnostics\n",
    "import gisco_geodata\n",
    "import numpy as np\n",
    "import regionmask\n",
    "import xarray as xr"
   ]
  },
  {
   "cell_type": "markdown",
   "metadata": {
    "editable": true,
    "slideshow": {
     "slide_type": ""
    },
    "tags": []
   },
   "source": [
    "### Define area of interest\n",
    "\n",
    "Specify a name for your area of interest (`region_name`) and load a corresponding shape with geopandas (`region_gdf`).\n",
    "\n",
    "For example, access NUTS regions from [GISCO](https://ec.europa.eu/eurostat/web/gisco/geodata/statistical-units/territorial-units-statistics):"
   ]
  },
  {
   "cell_type": "code",
   "execution_count": null,
   "metadata": {
    "editable": true,
    "slideshow": {
     "slide_type": ""
    },
    "tags": []
   },
   "outputs": [],
   "source": [
    "# Specify a name for labelling outputs\n",
    "region_name = 'IT'\n",
    "\n",
    "nuts = gisco_geodata.NUTS()\n",
    "# Geopandas dataframe with the shape of the region\n",
    "region_gdf = nuts.get(\n",
    "    countries=region_name,  # put a NUTS ID here\n",
    "    nuts_level='LEVL_0',  # adjust the NUTS level to match your ID\n",
    "    scale='20M',  # select data resolution (1M, 3M, 10M, 20M or 60M)\n",
    "    spatial_type='RG',\n",
    "    projection='4326'\n",
    ")"
   ]
  },
  {
   "cell_type": "markdown",
   "metadata": {
    "editable": true,
    "slideshow": {
     "slide_type": ""
    },
    "tags": []
   },
   "source": [
    "### Path configuration"
   ]
  },
  {
   "cell_type": "code",
   "execution_count": null,
   "metadata": {
    "editable": true,
    "slideshow": {
     "slide_type": ""
    },
    "tags": []
   },
   "outputs": [],
   "source": [
    "# Download folder for UERRA datasets\n",
    "input_folder = '../data'\n",
    "os.makedirs(input_folder, exist_ok=True)\n",
    "\n",
    "# Local data after preprocessing\n",
    "output_folder = f'../data_{region_name}'\n",
    "os.makedirs(output_folder, exist_ok=True)"
   ]
  },
  {
   "cell_type": "markdown",
   "metadata": {
    "editable": true,
    "slideshow": {
     "slide_type": ""
    },
    "tags": []
   },
   "source": [
    "### CDS client setup\n",
    "\n",
    "To access the data on CDS, you need an ECMWF account.\n",
    "See the [guide on how to set up the API](https://cds.climate.copernicus.eu/how-to-api) for more information."
   ]
  },
  {
   "cell_type": "code",
   "execution_count": null,
   "metadata": {
    "editable": true,
    "slideshow": {
     "slide_type": ""
    },
    "tags": []
   },
   "outputs": [],
   "source": [
    "URL = 'https://cds.climate.copernicus.eu/api'\n",
    "KEY = None  # add your key or provide via ~/.cdsapirc\n",
    "\n",
    "cds_client = cdsapi.Client(url=URL, key=KEY)"
   ]
  },
  {
   "cell_type": "markdown",
   "metadata": {
    "editable": true,
    "slideshow": {
     "slide_type": ""
    },
    "tags": []
   },
   "source": [
    "## Reanalysis data (UERRA)\n",
    "\n",
    "You can download the dataset [UERRA regional reanalysis](https://cds.climate.copernicus.eu/datasets/reanalysis-uerra-europe-single-levels?tab=overview) from the Climate Data Store.\n",
    "The UERRA dataset contains analyses of surface and near-surface essential climate variables from UERRA-HARMONIE and MESCAN-SURFEX systems.\n",
    "For this assessment the MESCAN-SURFEX was downloaded considering two different variables:\n",
    "\n",
    "- **Air Temperature**: At 2 meters above the surface (commonly referred to as 2m temperature).\n",
    "- **Total Precipitation**: The total amount of water (both liquid and solid forms) falling onto the ground or water surface. This dataset includes all types of precipitation and represents an accumulated value over 24 hours, from 06:00 on one day to 06:00 the following day."
   ]
  },
  {
   "cell_type": "code",
   "execution_count": null,
   "metadata": {
    "editable": true,
    "slideshow": {
     "slide_type": ""
    },
    "tags": [
     "hide-input"
    ]
   },
   "outputs": [],
   "source": [
    "def bbox_islice(mask):\n",
    "    \"\"\"Slices for bounding box of a masked area\"\"\"\n",
    "    idxs = np.where(mask.notnull())\n",
    "    slc = {\n",
    "        'y': slice(np.min(idxs[0]), np.max(idxs[0])+1),\n",
    "        'x': slice(np.min(idxs[1]), np.max(idxs[1])+1),\n",
    "    }\n",
    "    return mask.isel(slc), slc\n",
    "\n",
    "\n",
    "def clip_and_mask(ds, gdf):\n",
    "    \"\"\"Mask the data with the given shape and crop to bbox\"\"\"\n",
    "    mask = regionmask.mask_geopandas(gdf, ds)\n",
    "    mask, slc = bbox_islice(mask)\n",
    "    return ds.isel(slc).where(mask.notnull())\n",
    "\n",
    "\n",
    "def uerra_request(variable, years):\n",
    "    \"\"\"Request UERRA reanalysis data from the CDS\"\"\"\n",
    "    if isinstance(years, str):\n",
    "        years = [years]\n",
    "\n",
    "    dataset = \"reanalysis-uerra-europe-single-levels\"\n",
    "    request = {\n",
    "        \"origin\": \"mescan_surfex\",\n",
    "        \"variable\": variable,\n",
    "        \"year\": years,\n",
    "        \"month\": [\n",
    "            \"01\", \"02\", \"03\", \"04\", \"05\", \"06\", \"07\", \"08\", \"09\",\n",
    "            \"10\", \"11\", \"12\"\n",
    "        ],\n",
    "        \"day\": [\n",
    "            \"01\", \"02\", \"03\", \"04\", \"05\", \"06\", \"07\", \"08\", \"09\",\n",
    "            \"10\", \"11\", \"12\", \"13\", \"14\", \"15\", \"16\", \"17\", \"18\",\n",
    "            \"19\", \"20\", \"21\", \"22\", \"23\", \"24\", \"25\", \"26\", \"27\",\n",
    "            \"28\", \"29\", \"30\", \"31\"\n",
    "        ],\n",
    "        \"time\": [\"00:00\", \"06:00\", \"12:00\", \"18:00\"],\n",
    "        \"data_format\": \"netcdf\"\n",
    "    }\n",
    "\n",
    "    filename = os.path.join(input_folder, 'UERRA-{}-{}.nc'.format(variable, '-'.join(years)))\n",
    "    return cds_client.retrieve(dataset, request).download(filename)"
   ]
  },
  {
   "cell_type": "markdown",
   "metadata": {
    "editable": true,
    "slideshow": {
     "slide_type": ""
    },
    "tags": []
   },
   "source": [
    "### Time interval\n",
    "\n",
    "Which years to download data for and process?"
   ]
  },
  {
   "cell_type": "code",
   "execution_count": null,
   "metadata": {
    "editable": true,
    "slideshow": {
     "slide_type": ""
    },
    "tags": []
   },
   "outputs": [],
   "source": [
    "start_year = 1981\n",
    "end_year = 2010\n",
    "\n",
    "# Generate the list of years and corresponding slice for selection\n",
    "years = [str(y) for y in range(start_year, end_year+1, 1)]\n",
    "years_slice = slice(str(start_year), str(end_year))"
   ]
  },
  {
   "cell_type": "markdown",
   "metadata": {
    "editable": true,
    "slideshow": {
     "slide_type": ""
    },
    "tags": []
   },
   "source": [
    "### Air Temperature\n",
    "\n",
    "Download 2 meter temperature: (~2.3 GB per year)"
   ]
  },
  {
   "cell_type": "code",
   "execution_count": null,
   "metadata": {
    "editable": true,
    "slideshow": {
     "slide_type": ""
    },
    "tags": []
   },
   "outputs": [],
   "source": [
    "for y in years:\n",
    "    print(f\"Requesting data for year {y}\", flush=True)\n",
    "    uerra_request(variable=\"2m_temperature\", years=y)"
   ]
  },
  {
   "cell_type": "markdown",
   "metadata": {
    "editable": true,
    "slideshow": {
     "slide_type": ""
    },
    "tags": []
   },
   "source": [
    "Load, merge and clip all downloaded temperature datasets and convert temperature from Kelvin to Celsius and add the units for temperature (°C), then write to the output folder for the selected region:"
   ]
  },
  {
   "cell_type": "code",
   "execution_count": null,
   "metadata": {},
   "outputs": [],
   "source": [
    "# Load and clip the dataset\n",
    "ds_t2m = (\n",
    "    xr.open_mfdataset(\n",
    "        os.path.join(input_folder, 'UERRA-2m_temperature-*.nc'),\n",
    "        combine='by_coords',\n",
    "        chunks='auto'\n",
    "    )\n",
    "    .rename({'valid_time': 'time'})\n",
    "    # Clip to specified time interval\n",
    "    .sel({'time': years_slice})\n",
    "    # Clip to selected region\n",
    "    .pipe(clip_and_mask, region_gdf)\n",
    ")\n",
    "\n",
    "# Convert temperature from Kelvin to Celsius\n",
    "ds_t2m['t2m'] = ds_t2m['t2m'] - 273.15\n",
    "ds_t2m['t2m'].attrs['units'] = 'C'  # Add units attribute\n",
    "\n",
    "# Save the processed and clipped data to a new NetCDF file\n",
    "with dask.diagnostics.ProgressBar():\n",
    "    output_file_path = os.path.join(output_folder, 'UERRA-t2m.nc')\n",
    "    ds_t2m.to_netcdf(output_file_path, encoding={'t2m': {'compression': 'zlib'}})\n",
    "\n",
    "print(f'Saved processed file to: {output_file_path}')"
   ]
  },
  {
   "cell_type": "markdown",
   "metadata": {},
   "source": [
    "### Total Precipitation\n",
    "\n",
    "Download total precipitation: (~0.4 GB per year)"
   ]
  },
  {
   "cell_type": "code",
   "execution_count": null,
   "metadata": {
    "editable": true,
    "slideshow": {
     "slide_type": ""
    },
    "tags": []
   },
   "outputs": [],
   "source": [
    "for ys in itertools.batched(years, 5):\n",
    "    print(f\"Requesting data for years {ys}\", flush=True)\n",
    "    uerra_request(variable=\"total_precipitation\", years=ys)"
   ]
  },
  {
   "cell_type": "markdown",
   "metadata": {},
   "source": [
    "Load, merge and clip all downloaded precipitation datasets, then write to the output folder for the selected region:"
   ]
  },
  {
   "cell_type": "code",
   "execution_count": null,
   "metadata": {},
   "outputs": [],
   "source": [
    "# Load and clip the dataset\n",
    "ds_tp = (\n",
    "    xr.open_mfdataset(\n",
    "        os.path.join(input_folder, 'UERRA-total_precipitation-*.nc'),\n",
    "        combine='by_coords',\n",
    "        chunks='auto'\n",
    "    )\n",
    "    .rename({'valid_time': 'time'})\n",
    "    # Clip to time interval\n",
    "    .sel({'time': years_slice})\n",
    "    # Clip to selected region\n",
    "    .pipe(clip_and_mask, region_gdf)\n",
    ")\n",
    "\n",
    "# Precipitation given in kg/m² for a 24h period which is mm/day\n",
    "ds_tp['tp'].attrs['units'] = 'mm/d'  # Add units attribute\n",
    "\n",
    "# Save the processed and clipped data to a new NetCDF file\n",
    "with dask.diagnostics.ProgressBar():\n",
    "    output_file_path = os.path.join(output_folder, 'UERRA-tp.nc')\n",
    "    ds_tp.to_netcdf(output_file_path, encoding={'tp': {'compression': 'zlib'}})\n",
    "\n",
    "print(f'Saved processed file to: {output_file_path}')"
   ]
  },
  {
   "cell_type": "markdown",
   "metadata": {},
   "source": [
    "## Next step\n",
    "\n",
    "The UERRA-based hazard assessment workflow continues with the [indicators calculation](02_UERRA_indicatorsCalculation.ipynb)."
   ]
  }
 ],
 "metadata": {
  "kernelspec": {
   "display_name": "Python 3 (ipykernel)",
   "language": "python",
   "name": "python3"
  },
  "language_info": {
   "codemirror_mode": {
    "name": "ipython",
    "version": 3
   },
   "file_extension": ".py",
   "mimetype": "text/x-python",
   "name": "python",
   "nbconvert_exporter": "python",
   "pygments_lexer": "ipython3",
   "version": "3.12.9"
  }
 },
 "nbformat": 4,
 "nbformat_minor": 4
}
