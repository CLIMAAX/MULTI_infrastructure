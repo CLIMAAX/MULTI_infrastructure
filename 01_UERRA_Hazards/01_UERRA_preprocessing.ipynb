{
 "cells": [
  {
   "cell_type": "markdown",
   "metadata": {},
   "source": [
    "# Pre-processing UERRA and EURO-CORDEX datasets"
   ]
  },
  {
   "cell_type": "markdown",
   "metadata": {},
   "source": [
    "Visit the [how to run risk workflows](https://handbook.climaax.eu/notebooks/workflows_how_to.html) page in the CLIMAAX Handbook and the [GitHub repository](https://github.com/CLIMAAX/HAZARD) of this workflow for information on how to use this Jupyter notebook."
   ]
  },
  {
   "cell_type": "markdown",
   "metadata": {},
   "source": [
    "## Download datasets\n",
    "You can download the dataset UERRA regional reanalysis in the following website: https://cds.climate.copernicus.eu/datasets/reanalysis-uerra-europe-single-levels?tab=overview.\n",
    "The UERRA dataset contains analyses of surface and near-surface essential climate variables from UERRA-HARMONIE and MESCAN-SURFEX systems. For this assessment the MESCAN-SURFEC was download considering two different variables:\n",
    "- Air Temperature: Measured at 2 meters above the surface (commonly referred to as 2m temperature).\n",
    "- Total Precipitation: The total amount of water (both liquid and solid forms) falling onto the ground or water surface. This dataset includes all types of precipitation and represents an accumulated value over 24 hours, from 06:00 on one day to 06:00 the following day.\n",
    "\n",
    "On the cell below, an example for the download of 2 meter tempeture for year 1981"
   ]
  },
  {
   "cell_type": "code",
   "execution_count": null,
   "metadata": {},
   "outputs": [],
   "source": [
    "import cdsapi\n",
    "\n",
    "dataset = \"reanalysis-uerra-europe-single-levels\"\n",
    "request = {\n",
    "    \"origin\": \"mescan_surfex\",\n",
    "    \"variable\": \"2m_temperature\",\n",
    "    \"year\": [\"1981\"],\n",
    "    \"month\": [\n",
    "        \"01\", \"02\", \"03\",\n",
    "        \"04\", \"05\", \"06\",\n",
    "        \"07\", \"08\", \"09\",\n",
    "        \"10\", \"11\", \"12\"\n",
    "    ],\n",
    "    \"day\": [\n",
    "        \"01\", \"02\", \"03\",\n",
    "        \"04\", \"05\", \"06\",\n",
    "        \"07\", \"08\", \"09\",\n",
    "        \"10\", \"11\", \"12\",\n",
    "        \"13\", \"14\", \"15\",\n",
    "        \"16\", \"17\", \"18\",\n",
    "        \"19\", \"20\", \"21\",\n",
    "        \"22\", \"23\", \"24\",\n",
    "        \"25\", \"26\", \"27\",\n",
    "        \"28\", \"29\", \"30\",\n",
    "        \"31\"\n",
    "    ],\n",
    "    \"time\": [\n",
    "        \"00:00\", \"06:00\", \"12:00\",\n",
    "        \"18:00\"\n",
    "    ],\n",
    "    \"data_format\": \"netcdf\"\n",
    "}\n",
    "\n",
    "client = cdsapi.Client()\n",
    "client.retrieve(dataset, request).download()"
   ]
  },
  {
   "cell_type": "markdown",
   "metadata": {},
   "source": [
    "## Process the data\n",
    "This code processes multiple NetCDF files from the input folder (data). It automates several key tasks, including converting temperature data from Kelvin to Celsius and adding the units for both temperature (°C) and precipitation (mm/day). Additionally, the code clips the datasets to a specified time period (1981-2010) and saves the modified files in a specified output directory (data_conv)."
   ]
  },
  {
   "cell_type": "code",
   "execution_count": null,
   "metadata": {},
   "outputs": [],
   "source": [
    "import os\n",
    "import xarray as xr"
   ]
  },
  {
   "cell_type": "code",
   "execution_count": null,
   "metadata": {},
   "outputs": [],
   "source": [
    "def process_netcdf_files(input_folder, output_folder):\n",
    "    # Create the output folder if it doesn't exist\n",
    "    if not os.path.exists(output_folder):\n",
    "        os.makedirs(output_folder)\n",
    "        print(f'Created output folder: {output_folder}')\n",
    "\n",
    "    # Loop through all the files in the input folder\n",
    "    for filename in os.listdir(input_folder):\n",
    "        if filename.endswith('.nc'):\n",
    "            input_file_path = os.path.join(input_folder, filename)\n",
    "            output_file_path = os.path.join(output_folder, filename)\n",
    "            print(f'Processing file: {input_file_path}')\n",
    "\n",
    "            # Load and clip the dataset\n",
    "            ds = xr.open_dataset(input_file_path)\n",
    "            ds_subset = ds.sel(time=slice('1981', '2010'))\n",
    "\n",
    "            # Convert temperature from Kelvin to Celsius\n",
    "            if 't2m' in ds_subset:\n",
    "                ds_subset['t2m'] = ds_subset['t2m'] - 273.15\n",
    "                ds_subset['t2m'].attrs['units'] = 'C'  # Add units attribute\n",
    "                print(f'Converted t2m to Celsius')\n",
    "\n",
    "            # Convert precipitation from kg/m²= mm/day\n",
    "            if 'tp' in ds_subset:\n",
    "                ds_subset['tp'] = ds_subset['tp']\n",
    "                ds_subset['tp'].attrs['units'] = 'mm/d'  # Add units attribute\n",
    "                print(f'Converted pr to mm/day')\n",
    "\n",
    "            # Save the processed and clipped data to a new NetCDF file\n",
    "            ds_subset.to_netcdf(output_file_path)\n",
    "            print(f'Saved processed file to: {output_file_path}')"
   ]
  },
  {
   "cell_type": "markdown",
   "metadata": {},
   "source": [
    "## Save dataset to a local directory for future access\n",
    "We will save the processed files to a local folder to be able to easily access it later."
   ]
  },
  {
   "cell_type": "code",
   "execution_count": null,
   "metadata": {},
   "outputs": [],
   "source": [
    "# Define the input, output, and shapefile paths\n",
    "input_folder = \"../data\"  # UERRA datasets are located\n",
    "output_folder = \"../data_conv\"  # data saved after unit format conversion\n",
    "\n",
    "process_netcdf_files(input_folder, output_folder)"
   ]
  }
 ],
 "metadata": {
  "kernelspec": {
   "display_name": "climax",
   "language": "python",
   "name": "python3"
  },
  "language_info": {
   "name": "python",
   "version": "3.11.9"
  }
 },
 "nbformat": 4,
 "nbformat_minor": 2
}
