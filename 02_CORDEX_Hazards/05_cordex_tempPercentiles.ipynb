{
 "cells": [
  {
   "cell_type": "markdown",
   "id": "84851655-1184-4c17-a1b9-df42bdc98ca8",
   "metadata": {
    "tags": []
   },
   "source": [
    "# **Hazard assessment for Infrastructures using Euro-Cordex datasets**\n",
    "\n",
    "## Calculation of the Indicator \"Percentiles of the Temperature\""
   ]
  },
  {
   "cell_type": "markdown",
   "id": "b378376d-aaf3-44b9-b331-bca0c125a749",
   "metadata": {
    "tags": []
   },
   "source": [
    "- See our [how to use risk workflows](https://handbook.climaax.eu/notebooks/workflows_how_to.html) page for information on how to run this notebook."
   ]
  },
  {
   "cell_type": "markdown",
   "id": "1dd026bd",
   "metadata": {
    "jupyter": {
     "source_hidden": true
    }
   },
   "source": [
    "## **Hazard assessment methodology**\n",
    "Using these averaged datasets, we computed the percentile of the daily maximum temperature 95 and 99.9 for each time period.\n",
    "\n",
    "We utilized outputs from 14 models within the EURO-CORDEX framework to evaluate hazards affecting infrastructure, in this notebook we used the daily maximum temperature as an indicator of the hazzard. Our analysis included three Representative Concentration Pathways (RCPs): RCP2.6, RCP4.5, and RCP8.5. To structure the future projections, Each RCP scenario was analyzed over three distinct future timeframes: 2021–2050, 2041–2070, and 2071–2100. Additionally, we used the historical period (1981–2010) as a baseline for comparison to evaluate changes in climate hazards over time.\n",
    "\n",
    "### Analysis of the Temperature Percentiles\n",
    "We computed the percentile of the daily maximum temperature 95 and 99.9 for each model, scenario, and time period. These calculations were performed for both the historical and future RCP scenarios. To quantify changes, we calculated anomalies by subtracting, for each individual model, the historical dataset from its corresponding future projection (RCP2.6, RCP4.5, and RCP8.5).\n",
    "\n",
    "To account for uncertainties and provide a robust projection, we computed the average across all 14 models for each percentile of temperature, scenario, and time period. The ensemble averaging process involved aggregating anomalies for all models and then calculating the mean, yielding a single representative dataset for each RCP scenario and timeframe.\n",
    "\n",
    "## **Limitation of the Euro-Cordex dataset**\n",
    "The EURO-CORDEX (Coordinated Regional Climate Downscaling Experiment for Europe) project is a set of high-resolution regional climate projections for Europe, designed to support impact, adaptation, and vulnerability assessments under various climate change scenarios. The EURO-CORDEX integrate global climate model (GCM) outputs with regional climate models (RCMs), enabling the simulation of climatic patterns and extremes. The models explore different Representative Concentration Pathways (RCPs) from CMIP5 (RCP2.6, RCP4.5, RCP8.5) and Shared Socioeconomic Pathways (SSPs) from CMIP6 (SSP1-2.6, SSP5-8.5). The simulations cover historical periods (1950–2005) and future projections (2006–2100). These models are validated against observational data and reanalysis datasets\n",
    "\n",
    "Some of the limitations:\n",
    "- EURO-CORDEX offers high-resolution data (typically 0.11° ~ 12.5 km and 0.44° ~ 50 km), it may still not fully capture localized phenomena such as urban heat islands, small-scale topographic effects, and small meteorological events.\n",
    "- Like all climate models, EURO-CORDEX RCMs and their driving GCMs exhibit biases compared to observed data, these Biases can vary regionally and seasonally. And may struggle to accurately simulate extreme weather events such as heatwaves, heavy precipitation, or storms.\n",
    "- While the dataset captures trends in extremes, very high thresholds (>45°C or >100 mm/day rainfall) may have higher uncertainty due to limited observational data."
   ]
  },
  {
   "cell_type": "markdown",
   "id": "5c7f97fe-2578-4ce9-b4c7-1fe40214f045",
   "metadata": {
    "tags": []
   },
   "source": [
    "## Preparation work\n",
    "All the EURO-CORDEX models used in this workflow are freely available on copernicus C3S platform (https://cds.climate.copernicus.eu/datasets/projections-cordex-domains-single-levels?tab=overview), and Downloaded through the implemented API, the data were then processed to ensure that the grid type was consistent across all models and to fill any gaps in the dates. Here an example for one model"
   ]
  },
  {
   "cell_type": "markdown",
   "id": "dd12ce07",
   "metadata": {},
   "source": [
    "### Select area of interest\n",
    "Before downloading the data, we will define the coordinates of the area of interest, for this workflow we selected the Italy region. Based on the shapefile of the country we will be able to clip the datasets for further processing, and display hazard and damage maps for this area."
   ]
  },
  {
   "cell_type": "markdown",
   "id": "a6453335",
   "metadata": {},
   "source": [
    "### Load libraries"
   ]
  },
  {
   "cell_type": "code",
   "execution_count": 2,
   "id": "c445681b",
   "metadata": {},
   "outputs": [],
   "source": [
    "import os\n",
    "import xarray as xr\n",
    "import xclim\n",
    "import re\n",
    "\n",
    "from collections import defaultdict"
   ]
  },
  {
   "cell_type": "markdown",
   "id": "438e0df7",
   "metadata": {},
   "source": [
    "### Create the directory structure"
   ]
  },
  {
   "cell_type": "code",
   "execution_count": null,
   "id": "79e25ef6-9a3b-4d42-a2b5-d787c2b70878",
   "metadata": {},
   "outputs": [],
   "source": [
    "# Define paths\n",
    "nc_files = \"/climax/data/cordex\"\n",
    "general_path = \"/climax/indicators/cordex\"\n",
    "subfolders = ['historical','rcp26', 'rcp45', 'rcp85']\n",
    "\n",
    "# Temperature thresholds\n",
    "percentiles = ['0.95', '0.999']\n",
    "\n",
    "# Time ranges to process\n",
    "rcp_time_ranges = [('2021', '2050'), ('2041', '2070'), ('2071', '2100')]\n",
    "historical_time_range = [('1981', '2010')]"
   ]
  },
  {
   "cell_type": "code",
   "execution_count": null,
   "id": "262714f0-48e3-451c-a1c3-186a056f3286",
   "metadata": {},
   "outputs": [],
   "source": [
    "# Function to process each NetCDF file for a given time range\n",
    "def process_file(file_path, percentile, save_path, start_year, end_year):\n",
    "    print(\"---------------------------------------------------\")\n",
    "    print(f\"Processing {file_path} for time range {start_year}-{end_year} and {percentile}\")\n",
    "    ds = xr.open_dataset(file_path)\n",
    "\n",
    "    # Select daily max temperature for the given time range\n",
    "    ds_sliced = ds.sel(time=slice(start_year, end_year))\n",
    "    dailyMaxTemp = (ds_sliced['tasmax'] - 273.15).resample(time='D').max()\n",
    "    dailyMaxTemp.attrs['units'] = 'C'\n",
    "\n",
    "    # Get the minimum and maximum values\n",
    "    min_value = dailyMaxTemp.min(skipna=True).item()  # Convert to a scalar with .item()\n",
    "    max_value = dailyMaxTemp.max(skipna=True).item()\n",
    "\n",
    "    # Print the results\n",
    "    print(f\"Temp min value: {min_value}\")\n",
    "    print(f\"Temp max value: {max_value}\")\n",
    "\n",
    "    # Calculate the percentiles across all time steps\n",
    "    dailyMaxTemp_nonan = dailyMaxTemp.dropna(dim='time', how='all')\n",
    "    calc_percentile = dailyMaxTemp_nonan.quantile(percentile, dim='time')\n",
    "\n",
    "\n",
    "    # Create the new filename with the time range and threshold information\n",
    "    filename = os.path.basename(file_path)  # Extract original filename\n",
    "    file_name_no_ext = os.path.splitext(filename)[0]  # Remove extension\n",
    "    percentile_numb = percentile.split('.')[1]\n",
    "    new_filename = f\"{file_name_no_ext}_p{percentile_numb}_{start_year}-{end_year}.nc\"\n",
    "\n",
    "    # Save the result to the new file path\n",
    "    calc_percentile.to_netcdf(os.path.join(save_path, new_filename))\n",
    "\n",
    "    # Get the minimum and maximum values\n",
    "    min_value_indic = calc_percentile.min(skipna=True).item()  # Convert to a scalar with .item()\n",
    "    max_value_indic = calc_percentile.max(skipna=True).item()\n",
    "\n",
    "    # Print the results\n",
    "    print(f\"Minimum percentile {percentile}: {min_value_indic}\")\n",
    "    print(f\"Maximum percentile {percentile}: {max_value_indic}\")\n",
    "\n",
    "    print(f\"Saved {new_filename} to {save_path}\")\n",
    "\n",
    "    return os.path.join(save_path, new_filename)  # Return path of processed file\n"
   ]
  },
  {
   "cell_type": "code",
   "execution_count": null,
   "id": "38ea4aee",
   "metadata": {},
   "outputs": [],
   "source": [
    "# Loop through each subfolder (rcp26, rcp45, rcp85)\n",
    "for subfolder in subfolders:\n",
    "    print(subfolder)\n",
    "    folder_path = os.path.join(nc_files, subfolder)\n",
    "    save_subfolder = os.path.join(general_path, 'tempPercentiles', subfolder)\n",
    "\n",
    "    # Create the destination subfolder if it doesn't exist\n",
    "    os.makedirs(save_subfolder, exist_ok=True)\n",
    "\n",
    "    # Choose the time ranges based on the subfolder\n",
    "    if subfolder == 'historical':\n",
    "        time_ranges = historical_time_range\n",
    "    else:\n",
    "        time_ranges = rcp_time_ranges\n",
    "\n",
    "    # Initialize a dictionary to store processed files per threshold and time range\n",
    "    processed_files_by_threshold = {percentile: [] for percentile in percentiles}\n",
    "\n",
    "    # Loop through each NetCDF file in the subfolder\n",
    "    for file in os.listdir(folder_path):\n",
    "        file_path = os.path.join(folder_path, file)\n",
    "\n",
    "        # Check if it's a NetCDF file (usually ends with .nc)\n",
    "        if file.endswith('.nc'):\n",
    "            # Loop through the temperature thresholds\n",
    "            for percentile in percentiles:\n",
    "                # Loop through the defined time ranges\n",
    "                for start_year, end_year in time_ranges:\n",
    "                    print(f\"Processing Percentile {percentile} for time range {start_year}-{end_year}\")\n",
    "\n",
    "                    # Process and save the file with the new name for each time range\n",
    "                    processed_file_path = process_file(file_path, percentile, save_subfolder, start_year, end_year)\n",
    "\n",
    "print(\"Percentile calculation complete!\")"
   ]
  },
  {
   "cell_type": "markdown",
   "id": "fe67afa5",
   "metadata": {},
   "source": [
    "### **Anomly Calculation**"
   ]
  },
  {
   "cell_type": "code",
   "execution_count": null,
   "id": "2ae93260",
   "metadata": {},
   "outputs": [],
   "source": [
    "# Directories\n",
    "historical_dir = \"/climax/indicators/cordex/tempPercentiles/historical\"\n",
    "rcp26_dir = \"/climax/indicators/cordex/tempPercentiles/rcp26\"\n",
    "rcp45_dir = \"/climax/indicators/cordex/tempPercentiles/rcp45\"\n",
    "rcp85_dir = \"/climax/indicators/cordex/tempPercentiles/rcp85\"\n",
    "\n",
    "output_dir = \"/climax/indicators/cordex/tempPercentiles/anomalies\"\n",
    "\n",
    "# Create the output directory if does not exists\n",
    "os.makedirs(output_dir, exist_ok=True)"
   ]
  },
  {
   "cell_type": "code",
   "execution_count": null,
   "id": "326569d4",
   "metadata": {},
   "outputs": [],
   "source": [
    "# Function to parse filenames and extract key components\n",
    "def parse_filename(filename):\n",
    "    pattern = r\"tasmax_EUR-11_(.+?)_(historical|rcp26|rcp45|rcp85)_r\\d+i\\d+p\\d+_(.+?)_day_\\d+_p(\\d+)_([\\d-]+).nc\"\n",
    "    match = re.match(pattern, filename)\n",
    "    if match:\n",
    "        model = match.group(1)\n",
    "        scenario = match.group(2)\n",
    "        rcm = match.group(3)\n",
    "        percentile = match.group(4)\n",
    "        time_period = match.group(5)\n",
    "        return model, scenario, rcm, percentile, time_period\n",
    "    return None"
   ]
  },
  {
   "cell_type": "code",
   "execution_count": null,
   "id": "166a008f",
   "metadata": {},
   "outputs": [],
   "source": [
    "# Load filenames into dictionaries\n",
    "historical_files = {parse_filename(f): os.path.join(historical_dir, f) for f in os.listdir(historical_dir) if f.endswith(\".nc\")}\n",
    "rcp26_files = {parse_filename(f): os.path.join(rcp26_dir, f) for f in os.listdir(rcp26_dir) if f.endswith(\".nc\")}\n",
    "rcp45_files = {parse_filename(f): os.path.join(rcp45_dir, f) for f in os.listdir(rcp45_dir) if f.endswith(\".nc\")}\n",
    "rcp85_files = {parse_filename(f): os.path.join(rcp85_dir, f) for f in os.listdir(rcp85_dir) if f.endswith(\".nc\")}"
   ]
  },
  {
   "cell_type": "code",
   "execution_count": null,
   "id": "f513560e",
   "metadata": {},
   "outputs": [],
   "source": [
    "# Function to perform subtraction with xarray\n",
    "def subtract_and_save(historical_file, future_file, output_file):\n",
    "    # Load the datasets using xarray\n",
    "    historical_ds = xr.open_dataset(historical_file)\n",
    "    future_ds = xr.open_dataset(future_file)\n",
    "    print(historical_file)\n",
    "    print(future_file)\n",
    "\n",
    "    # Perform subtraction for the 'tasmax' variable\n",
    "    diff = future_ds['tasmax'] - historical_ds['tasmax']\n",
    "\n",
    "    # Create a new dataset with the diff\n",
    "    diff_ds = diff.to_dataset(name='tasmax')\n",
    "\n",
    "    # Copy attributes if needed\n",
    "    diff_ds.attrs = future_ds.attrs\n",
    "\n",
    "    # Save the result to a new NetCDF file\n",
    "    diff_ds.to_netcdf(output_file)\n",
    "    print(f\"Saved: {output_file}\")"
   ]
  },
  {
   "cell_type": "code",
   "execution_count": null,
   "id": "eaf0ae0c",
   "metadata": {},
   "outputs": [],
   "source": [
    "# Match files and process\n",
    "for key, hist_file in historical_files.items():\n",
    "    if key is None:\n",
    "        continue\n",
    "    model, _, rcm, percentile, _ = key\n",
    "\n",
    "    # Iterate over all future scenarios\n",
    "    for future_files in [rcp26_files, rcp45_files, rcp85_files]:\n",
    "        for f_key, fut_file in future_files.items():\n",
    "            if f_key is None:\n",
    "                continue\n",
    "            fut_model, scenario, fut_rcm, fut_percentile, time_period = f_key\n",
    "\n",
    "            # Match by model, percentile, and RCM\n",
    "            if model == fut_model and rcm == fut_rcm and percentile == fut_percentile:\n",
    "                output_filename = f\"tasmax_EUR-11_{model}_{scenario}_diff_{rcm}_p{percentile}_{time_period}.nc\"\n",
    "                output_path = os.path.join(output_dir, output_filename)\n",
    "                subtract_and_save(hist_file, fut_file, output_path)"
   ]
  },
  {
   "cell_type": "markdown",
   "id": "4a66751a",
   "metadata": {},
   "source": [
    "### **Outputs and Hazard Assessment**\n",
    "\n",
    "For each period, and RCP scenarios we calculated the average across all 14 models, producing a single representative dataset for each timeframe, including both the historical and RCP scenarios. The final outputs of the analysis include both individual model anomalies and ensemble-averaged datasets for each RCP scenario and time period. These datasets provide a comprehensive view of potential future hazards under different climate scenarios, offering insights into changes in percentile of temperature relative to the historical baseline. The averaged datasets were used to visualize the spatial distribution and magnitude of these hazards, as demonstrated in the notebook 05_cordex_precipPercentile_plots.ipynb"
   ]
  },
  {
   "cell_type": "code",
   "execution_count": 3,
   "id": "f68e1c82",
   "metadata": {},
   "outputs": [],
   "source": [
    "# Directory containing the anomaly files\n",
    "anomalies_dir = \"/work/cmcc/dg07124/climax/indicators/cordex2/tempPercentiles/anomalies\"\n",
    "output_dir = \"/work/cmcc/dg07124/climax/indicators/cordex2/tempPercentiles/averaged_ensembles\"\n",
    "\n",
    "# Ensure the output directory exists\n",
    "os.makedirs(output_dir, exist_ok=True)"
   ]
  },
  {
   "cell_type": "code",
   "execution_count": 4,
   "id": "6d29bb4b",
   "metadata": {},
   "outputs": [],
   "source": [
    "# Function to parse filenames and extract key components\n",
    "def parse_filename(filename):\n",
    "    pattern = r\"tasmax_EUR-11_(.+?)_(rcp26|rcp45|rcp85)_diff_(.+?)_p(\\d+)_([\\d-]+).nc\"\n",
    "    match = re.match(pattern, filename)\n",
    "    if match:\n",
    "        model = match.group(1)\n",
    "        scenario = match.group(2)\n",
    "        rcm = match.group(3)\n",
    "        percentile = match.group(4)\n",
    "        time_period = match.group(5)\n",
    "        return model, scenario, rcm, percentile, time_period\n",
    "    return None\n",
    "\n",
    "# Group files by scenario, percentile, and time period\n",
    "files = [f for f in os.listdir(anomalies_dir) if f.endswith(\".nc\")]\n",
    "grouped_files = {}\n",
    "\n",
    "for f in files:\n",
    "    parsed = parse_filename(f)\n",
    "    if parsed:\n",
    "        _, scenario, _, percentile, time_period = parsed\n",
    "        key = (scenario, percentile, time_period)\n",
    "        if key not in grouped_files:\n",
    "            grouped_files[key] = []\n",
    "        grouped_files[key].append(os.path.join(anomalies_dir, f))"
   ]
  },
  {
   "cell_type": "code",
   "execution_count": null,
   "id": "7d248d49",
   "metadata": {},
   "outputs": [],
   "source": [
    "# Function to average files and save the ensemble\n",
    "def average_ensemble(files, output_file):\n",
    "    print(files)\n",
    "    print(\"-------------------------\")\n",
    "    datasets = [xr.open_dataset(f)['tasmax'] for f in files]  # Open and load the 'tasmax' variable\n",
    "    ensemble_mean = xr.concat(datasets, dim='model').mean(dim='model')  # Average across models\n",
    "\n",
    "    # Assign coordinates from the first dataset\n",
    "    first_ds = xr.open_dataset(files[0])\n",
    "    ensemble_mean = ensemble_mean.assign_coords({'lon': first_ds['lon'], 'lat': first_ds['lat']})\n",
    "\n",
    "    # Save the averaged dataset\n",
    "    ensemble_mean_ds = ensemble_mean.to_dataset(name='tasmax')\n",
    "    ensemble_mean_ds.to_netcdf(output_file)\n",
    "    print(f\"Averaged ensemble saved: {output_file}\")\n",
    "\n",
    "\n",
    "# Process each group\n",
    "for key, file_list in grouped_files.items():\n",
    "    scenario, percentile, time_period = key\n",
    "    output_filename = f\"tasmax_EUR-11_{scenario}_ensemble_p{percentile}_{time_period}.nc\"\n",
    "    output_path = os.path.join(output_dir, output_filename)\n",
    "    average_ensemble(file_list, output_path)"
   ]
  },
  {
   "cell_type": "markdown",
   "id": "70af5240-87b7-48b2-9140-307a68ec1af0",
   "metadata": {},
   "source": [
    "### **Standard Deviation Calculation**"
   ]
  },
  {
   "cell_type": "code",
   "execution_count": 5,
   "id": "b76749f6-5a52-4573-86b5-408d19cd1df0",
   "metadata": {},
   "outputs": [],
   "source": [
    "output_dir_std = \"/work/cmcc/dg07124/climax/indicators/cordex2/tempPercentiles/std_ensembles\"\n",
    "\n",
    "# Ensure the output directory exists\n",
    "os.makedirs(output_dir_std, exist_ok=True)"
   ]
  },
  {
   "cell_type": "code",
   "execution_count": 6,
   "id": "e0813ec3-12c3-40ce-be8e-82c1772e328f",
   "metadata": {
    "scrolled": true
   },
   "outputs": [
    {
     "name": "stdout",
     "output_type": "stream",
     "text": [
      "['/work/cmcc/dg07124/climax/indicators/cordex2/tempPercentiles/anomalies/tasmax_EUR-11_ICHEC-EC-EARTH_rcp26_diff_SMHI-RCA4_v1_p999_2071-2100.nc', '/work/cmcc/dg07124/climax/indicators/cordex2/tempPercentiles/anomalies/tasmax_EUR-11_ICHEC-EC-EARTH_rcp26_diff_DMI-HIRHAM5_v2_p999_2071-2100.nc', '/work/cmcc/dg07124/climax/indicators/cordex2/tempPercentiles/anomalies/tasmax_EUR-11_NCC-NorESM1-M_rcp26_diff_GERICS-REMO2015_v1_p999_2071-2100.nc', '/work/cmcc/dg07124/climax/indicators/cordex2/tempPercentiles/anomalies/tasmax_EUR-11_ICHEC-EC-EARTH_rcp26_diff_KNMI-RACMO22E_v1_p999_2071-2100.nc', '/work/cmcc/dg07124/climax/indicators/cordex2/tempPercentiles/anomalies/tasmax_EUR-11_MPI-M-MPI-ESM-LR_rcp26_diff_SMHI-RCA4_v1a_p999_2071-2100.nc', '/work/cmcc/dg07124/climax/indicators/cordex2/tempPercentiles/anomalies/tasmax_EUR-11_MOHC-HadGEM2-ES_rcp26_diff_SMHI-RCA4_v1_p999_2071-2100.nc', '/work/cmcc/dg07124/climax/indicators/cordex2/tempPercentiles/anomalies/tasmax_EUR-11_CNRM-CERFACS-CNRM-CM5_rcp26_diff_CNRM-ALADIN63_v2_p999_2071-2100.nc', '/work/cmcc/dg07124/climax/indicators/cordex2/tempPercentiles/anomalies/tasmax_EUR-11_NCC-NorESM1-M_rcp26_diff_SMHI-RCA4_v1_p999_2071-2100.nc', '/work/cmcc/dg07124/climax/indicators/cordex2/tempPercentiles/anomalies/tasmax_EUR-11_MPI-M-MPI-ESM-LR_rcp26_diff_MPI-CSC-REMO2009_v1_p999_2071-2100.nc', '/work/cmcc/dg07124/climax/indicators/cordex2/tempPercentiles/anomalies/tasmax_EUR-11_ICHEC-EC-EARTH_rcp26_diff_CLMcom-CCLM4-8-17_v1_p999_2071-2100.nc', '/work/cmcc/dg07124/climax/indicators/cordex2/tempPercentiles/anomalies/tasmax_EUR-11_MOHC-HadGEM2-ES_rcp26_diff_KNMI-RACMO22E_v2_p999_2071-2100.nc', '/work/cmcc/dg07124/climax/indicators/cordex2/tempPercentiles/anomalies/tasmax_EUR-11_CNRM-CERFACS-CNRM-CM5_rcp26_diff_KNMI-RACMO22E_v2_p999_2071-2100.nc', '/work/cmcc/dg07124/climax/indicators/cordex2/tempPercentiles/anomalies/tasmax_EUR-11_MOHC-HadGEM2-ES_rcp26_diff_DMI-HIRHAM5_v2_p999_2071-2100.nc']\n",
      "Standard deviation ensemble saved: /work/cmcc/dg07124/climax/indicators/cordex2/tempPercentiles/std_ensembles/tasmax_EUR-11_rcp26_ensemble_temp_std999_2071-2100.nc\n",
      "-------------------------\n",
      "['/work/cmcc/dg07124/climax/indicators/cordex2/tempPercentiles/anomalies/tasmax_EUR-11_ICHEC-EC-EARTH_rcp85_diff_SMHI-RCA4_v1_p999_2071-2100.nc', '/work/cmcc/dg07124/climax/indicators/cordex2/tempPercentiles/anomalies/tasmax_EUR-11_MOHC-HadGEM2-ES_rcp85_diff_SMHI-RCA4_v1_p999_2071-2100.nc', '/work/cmcc/dg07124/climax/indicators/cordex2/tempPercentiles/anomalies/tasmax_EUR-11_CNRM-CERFACS-CNRM-CM5_rcp85_diff_CNRM-ALADIN63_v2_p999_2071-2100.nc', '/work/cmcc/dg07124/climax/indicators/cordex2/tempPercentiles/anomalies/tasmax_EUR-11_MPI-M-MPI-ESM-LR_rcp85_diff_SMHI-RCA4_v1a_p999_2071-2100.nc', '/work/cmcc/dg07124/climax/indicators/cordex2/tempPercentiles/anomalies/tasmax_EUR-11_ICHEC-EC-EARTH_rcp85_diff_DMI-HIRHAM5_v2_p999_2071-2100.nc', '/work/cmcc/dg07124/climax/indicators/cordex2/tempPercentiles/anomalies/tasmax_EUR-11_ICHEC-EC-EARTH_rcp85_diff_CLMcom-CCLM4-8-17_v1_p999_2071-2100.nc', '/work/cmcc/dg07124/climax/indicators/cordex2/tempPercentiles/anomalies/tasmax_EUR-11_MPI-M-MPI-ESM-LR_rcp85_diff_MPI-CSC-REMO2009_v1_p999_2071-2100.nc', '/work/cmcc/dg07124/climax/indicators/cordex2/tempPercentiles/anomalies/tasmax_EUR-11_MOHC-HadGEM2-ES_rcp85_diff_KNMI-RACMO22E_v2_p999_2071-2100.nc', '/work/cmcc/dg07124/climax/indicators/cordex2/tempPercentiles/anomalies/tasmax_EUR-11_ICHEC-EC-EARTH_rcp85_diff_KNMI-RACMO22E_v1_p999_2071-2100.nc', '/work/cmcc/dg07124/climax/indicators/cordex2/tempPercentiles/anomalies/tasmax_EUR-11_CNRM-CERFACS-CNRM-CM5_rcp85_diff_KNMI-RACMO22E_v2_p999_2071-2100.nc', '/work/cmcc/dg07124/climax/indicators/cordex2/tempPercentiles/anomalies/tasmax_EUR-11_MOHC-HadGEM2-ES_rcp85_diff_DMI-HIRHAM5_v2_p999_2071-2100.nc', '/work/cmcc/dg07124/climax/indicators/cordex2/tempPercentiles/anomalies/tasmax_EUR-11_NCC-NorESM1-M_rcp85_diff_GERICS-REMO2015_v1_p999_2071-2100.nc', '/work/cmcc/dg07124/climax/indicators/cordex2/tempPercentiles/anomalies/tasmax_EUR-11_NCC-NorESM1-M_rcp85_diff_SMHI-RCA4_v1_p999_2071-2100.nc']\n",
      "Standard deviation ensemble saved: /work/cmcc/dg07124/climax/indicators/cordex2/tempPercentiles/std_ensembles/tasmax_EUR-11_rcp85_ensemble_temp_std999_2071-2100.nc\n",
      "-------------------------\n",
      "['/work/cmcc/dg07124/climax/indicators/cordex2/tempPercentiles/anomalies/tasmax_EUR-11_MOHC-HadGEM2-ES_rcp85_diff_KNMI-RACMO22E_v2_p999_2021-2050.nc', '/work/cmcc/dg07124/climax/indicators/cordex2/tempPercentiles/anomalies/tasmax_EUR-11_NCC-NorESM1-M_rcp85_diff_GERICS-REMO2015_v1_p999_2021-2050.nc', '/work/cmcc/dg07124/climax/indicators/cordex2/tempPercentiles/anomalies/tasmax_EUR-11_CNRM-CERFACS-CNRM-CM5_rcp85_diff_CNRM-ALADIN63_v2_p999_2021-2050.nc', '/work/cmcc/dg07124/climax/indicators/cordex2/tempPercentiles/anomalies/tasmax_EUR-11_CNRM-CERFACS-CNRM-CM5_rcp85_diff_KNMI-RACMO22E_v2_p999_2021-2050.nc', '/work/cmcc/dg07124/climax/indicators/cordex2/tempPercentiles/anomalies/tasmax_EUR-11_MPI-M-MPI-ESM-LR_rcp85_diff_SMHI-RCA4_v1a_p999_2021-2050.nc', '/work/cmcc/dg07124/climax/indicators/cordex2/tempPercentiles/anomalies/tasmax_EUR-11_ICHEC-EC-EARTH_rcp85_diff_DMI-HIRHAM5_v2_p999_2021-2050.nc', '/work/cmcc/dg07124/climax/indicators/cordex2/tempPercentiles/anomalies/tasmax_EUR-11_MOHC-HadGEM2-ES_rcp85_diff_SMHI-RCA4_v1_p999_2021-2050.nc', '/work/cmcc/dg07124/climax/indicators/cordex2/tempPercentiles/anomalies/tasmax_EUR-11_MPI-M-MPI-ESM-LR_rcp85_diff_MPI-CSC-REMO2009_v1_p999_2021-2050.nc', '/work/cmcc/dg07124/climax/indicators/cordex2/tempPercentiles/anomalies/tasmax_EUR-11_ICHEC-EC-EARTH_rcp85_diff_SMHI-RCA4_v1_p999_2021-2050.nc', '/work/cmcc/dg07124/climax/indicators/cordex2/tempPercentiles/anomalies/tasmax_EUR-11_ICHEC-EC-EARTH_rcp85_diff_CLMcom-CCLM4-8-17_v1_p999_2021-2050.nc', '/work/cmcc/dg07124/climax/indicators/cordex2/tempPercentiles/anomalies/tasmax_EUR-11_ICHEC-EC-EARTH_rcp85_diff_KNMI-RACMO22E_v1_p999_2021-2050.nc', '/work/cmcc/dg07124/climax/indicators/cordex2/tempPercentiles/anomalies/tasmax_EUR-11_MOHC-HadGEM2-ES_rcp85_diff_DMI-HIRHAM5_v2_p999_2021-2050.nc', '/work/cmcc/dg07124/climax/indicators/cordex2/tempPercentiles/anomalies/tasmax_EUR-11_NCC-NorESM1-M_rcp85_diff_SMHI-RCA4_v1_p999_2021-2050.nc']\n",
      "Standard deviation ensemble saved: /work/cmcc/dg07124/climax/indicators/cordex2/tempPercentiles/std_ensembles/tasmax_EUR-11_rcp85_ensemble_temp_std999_2021-2050.nc\n",
      "-------------------------\n",
      "['/work/cmcc/dg07124/climax/indicators/cordex2/tempPercentiles/anomalies/tasmax_EUR-11_MOHC-HadGEM2-ES_rcp45_diff_SMHI-RCA4_v1_p95_2021-2050.nc', '/work/cmcc/dg07124/climax/indicators/cordex2/tempPercentiles/anomalies/tasmax_EUR-11_CNRM-CERFACS-CNRM-CM5_rcp45_diff_CNRM-ALADIN63_v2_p95_2021-2050.nc', '/work/cmcc/dg07124/climax/indicators/cordex2/tempPercentiles/anomalies/tasmax_EUR-11_ICHEC-EC-EARTH_rcp45_diff_KNMI-RACMO22E_v1_p95_2021-2050.nc', '/work/cmcc/dg07124/climax/indicators/cordex2/tempPercentiles/anomalies/tasmax_EUR-11_MOHC-HadGEM2-ES_rcp45_diff_DMI-HIRHAM5_v2_p95_2021-2050.nc', '/work/cmcc/dg07124/climax/indicators/cordex2/tempPercentiles/anomalies/tasmax_EUR-11_MPI-M-MPI-ESM-LR_rcp45_diff_MPI-CSC-REMO2009_v1_p95_2021-2050.nc', '/work/cmcc/dg07124/climax/indicators/cordex2/tempPercentiles/anomalies/tasmax_EUR-11_NCC-NorESM1-M_rcp45_diff_SMHI-RCA4_v1_p95_2021-2050.nc', '/work/cmcc/dg07124/climax/indicators/cordex2/tempPercentiles/anomalies/tasmax_EUR-11_ICHEC-EC-EARTH_rcp45_diff_DMI-HIRHAM5_v2_p95_2021-2050.nc', '/work/cmcc/dg07124/climax/indicators/cordex2/tempPercentiles/anomalies/tasmax_EUR-11_NCC-NorESM1-M_rcp45_diff_GERICS-REMO2015_v1_p95_2021-2050.nc', '/work/cmcc/dg07124/climax/indicators/cordex2/tempPercentiles/anomalies/tasmax_EUR-11_CNRM-CERFACS-CNRM-CM5_rcp45_diff_KNMI-RACMO22E_v2_p95_2021-2050.nc', '/work/cmcc/dg07124/climax/indicators/cordex2/tempPercentiles/anomalies/tasmax_EUR-11_ICHEC-EC-EARTH_rcp45_diff_CLMcom-CCLM4-8-17_v1_p95_2021-2050.nc', '/work/cmcc/dg07124/climax/indicators/cordex2/tempPercentiles/anomalies/tasmax_EUR-11_MPI-M-MPI-ESM-LR_rcp45_diff_SMHI-RCA4_v1a_p95_2021-2050.nc', '/work/cmcc/dg07124/climax/indicators/cordex2/tempPercentiles/anomalies/tasmax_EUR-11_MOHC-HadGEM2-ES_rcp45_diff_KNMI-RACMO22E_v2_p95_2021-2050.nc', '/work/cmcc/dg07124/climax/indicators/cordex2/tempPercentiles/anomalies/tasmax_EUR-11_ICHEC-EC-EARTH_rcp45_diff_SMHI-RCA4_v1_p95_2021-2050.nc']\n",
      "Standard deviation ensemble saved: /work/cmcc/dg07124/climax/indicators/cordex2/tempPercentiles/std_ensembles/tasmax_EUR-11_rcp45_ensemble_temp_std95_2021-2050.nc\n",
      "-------------------------\n",
      "['/work/cmcc/dg07124/climax/indicators/cordex2/tempPercentiles/anomalies/tasmax_EUR-11_CNRM-CERFACS-CNRM-CM5_rcp85_diff_CNRM-ALADIN63_v2_p95_2021-2050.nc', '/work/cmcc/dg07124/climax/indicators/cordex2/tempPercentiles/anomalies/tasmax_EUR-11_CNRM-CERFACS-CNRM-CM5_rcp85_diff_KNMI-RACMO22E_v2_p95_2021-2050.nc', '/work/cmcc/dg07124/climax/indicators/cordex2/tempPercentiles/anomalies/tasmax_EUR-11_MPI-M-MPI-ESM-LR_rcp85_diff_MPI-CSC-REMO2009_v1_p95_2021-2050.nc', '/work/cmcc/dg07124/climax/indicators/cordex2/tempPercentiles/anomalies/tasmax_EUR-11_MPI-M-MPI-ESM-LR_rcp85_diff_SMHI-RCA4_v1a_p95_2021-2050.nc', '/work/cmcc/dg07124/climax/indicators/cordex2/tempPercentiles/anomalies/tasmax_EUR-11_ICHEC-EC-EARTH_rcp85_diff_KNMI-RACMO22E_v1_p95_2021-2050.nc', '/work/cmcc/dg07124/climax/indicators/cordex2/tempPercentiles/anomalies/tasmax_EUR-11_ICHEC-EC-EARTH_rcp85_diff_DMI-HIRHAM5_v2_p95_2021-2050.nc', '/work/cmcc/dg07124/climax/indicators/cordex2/tempPercentiles/anomalies/tasmax_EUR-11_NCC-NorESM1-M_rcp85_diff_GERICS-REMO2015_v1_p95_2021-2050.nc', '/work/cmcc/dg07124/climax/indicators/cordex2/tempPercentiles/anomalies/tasmax_EUR-11_NCC-NorESM1-M_rcp85_diff_SMHI-RCA4_v1_p95_2021-2050.nc', '/work/cmcc/dg07124/climax/indicators/cordex2/tempPercentiles/anomalies/tasmax_EUR-11_MOHC-HadGEM2-ES_rcp85_diff_KNMI-RACMO22E_v2_p95_2021-2050.nc', '/work/cmcc/dg07124/climax/indicators/cordex2/tempPercentiles/anomalies/tasmax_EUR-11_MOHC-HadGEM2-ES_rcp85_diff_DMI-HIRHAM5_v2_p95_2021-2050.nc', '/work/cmcc/dg07124/climax/indicators/cordex2/tempPercentiles/anomalies/tasmax_EUR-11_MOHC-HadGEM2-ES_rcp85_diff_SMHI-RCA4_v1_p95_2021-2050.nc', '/work/cmcc/dg07124/climax/indicators/cordex2/tempPercentiles/anomalies/tasmax_EUR-11_ICHEC-EC-EARTH_rcp85_diff_CLMcom-CCLM4-8-17_v1_p95_2021-2050.nc', '/work/cmcc/dg07124/climax/indicators/cordex2/tempPercentiles/anomalies/tasmax_EUR-11_ICHEC-EC-EARTH_rcp85_diff_SMHI-RCA4_v1_p95_2021-2050.nc']\n",
      "Standard deviation ensemble saved: /work/cmcc/dg07124/climax/indicators/cordex2/tempPercentiles/std_ensembles/tasmax_EUR-11_rcp85_ensemble_temp_std95_2021-2050.nc\n",
      "-------------------------\n",
      "['/work/cmcc/dg07124/climax/indicators/cordex2/tempPercentiles/anomalies/tasmax_EUR-11_MOHC-HadGEM2-ES_rcp26_diff_SMHI-RCA4_v1_p95_2071-2100.nc', '/work/cmcc/dg07124/climax/indicators/cordex2/tempPercentiles/anomalies/tasmax_EUR-11_CNRM-CERFACS-CNRM-CM5_rcp26_diff_CNRM-ALADIN63_v2_p95_2071-2100.nc', '/work/cmcc/dg07124/climax/indicators/cordex2/tempPercentiles/anomalies/tasmax_EUR-11_ICHEC-EC-EARTH_rcp26_diff_CLMcom-CCLM4-8-17_v1_p95_2071-2100.nc', '/work/cmcc/dg07124/climax/indicators/cordex2/tempPercentiles/anomalies/tasmax_EUR-11_NCC-NorESM1-M_rcp26_diff_SMHI-RCA4_v1_p95_2071-2100.nc', '/work/cmcc/dg07124/climax/indicators/cordex2/tempPercentiles/anomalies/tasmax_EUR-11_NCC-NorESM1-M_rcp26_diff_GERICS-REMO2015_v1_p95_2071-2100.nc', '/work/cmcc/dg07124/climax/indicators/cordex2/tempPercentiles/anomalies/tasmax_EUR-11_ICHEC-EC-EARTH_rcp26_diff_SMHI-RCA4_v1_p95_2071-2100.nc', '/work/cmcc/dg07124/climax/indicators/cordex2/tempPercentiles/anomalies/tasmax_EUR-11_MPI-M-MPI-ESM-LR_rcp26_diff_MPI-CSC-REMO2009_v1_p95_2071-2100.nc', '/work/cmcc/dg07124/climax/indicators/cordex2/tempPercentiles/anomalies/tasmax_EUR-11_MOHC-HadGEM2-ES_rcp26_diff_KNMI-RACMO22E_v2_p95_2071-2100.nc', '/work/cmcc/dg07124/climax/indicators/cordex2/tempPercentiles/anomalies/tasmax_EUR-11_MPI-M-MPI-ESM-LR_rcp26_diff_SMHI-RCA4_v1a_p95_2071-2100.nc', '/work/cmcc/dg07124/climax/indicators/cordex2/tempPercentiles/anomalies/tasmax_EUR-11_ICHEC-EC-EARTH_rcp26_diff_DMI-HIRHAM5_v2_p95_2071-2100.nc', '/work/cmcc/dg07124/climax/indicators/cordex2/tempPercentiles/anomalies/tasmax_EUR-11_CNRM-CERFACS-CNRM-CM5_rcp26_diff_KNMI-RACMO22E_v2_p95_2071-2100.nc', '/work/cmcc/dg07124/climax/indicators/cordex2/tempPercentiles/anomalies/tasmax_EUR-11_ICHEC-EC-EARTH_rcp26_diff_KNMI-RACMO22E_v1_p95_2071-2100.nc', '/work/cmcc/dg07124/climax/indicators/cordex2/tempPercentiles/anomalies/tasmax_EUR-11_MOHC-HadGEM2-ES_rcp26_diff_DMI-HIRHAM5_v2_p95_2071-2100.nc']\n",
      "Standard deviation ensemble saved: /work/cmcc/dg07124/climax/indicators/cordex2/tempPercentiles/std_ensembles/tasmax_EUR-11_rcp26_ensemble_temp_std95_2071-2100.nc\n",
      "-------------------------\n",
      "['/work/cmcc/dg07124/climax/indicators/cordex2/tempPercentiles/anomalies/tasmax_EUR-11_CNRM-CERFACS-CNRM-CM5_rcp45_diff_KNMI-RACMO22E_v2_p999_2071-2100.nc', '/work/cmcc/dg07124/climax/indicators/cordex2/tempPercentiles/anomalies/tasmax_EUR-11_MOHC-HadGEM2-ES_rcp45_diff_KNMI-RACMO22E_v2_p999_2071-2100.nc', '/work/cmcc/dg07124/climax/indicators/cordex2/tempPercentiles/anomalies/tasmax_EUR-11_NCC-NorESM1-M_rcp45_diff_GERICS-REMO2015_v1_p999_2071-2100.nc', '/work/cmcc/dg07124/climax/indicators/cordex2/tempPercentiles/anomalies/tasmax_EUR-11_MOHC-HadGEM2-ES_rcp45_diff_DMI-HIRHAM5_v2_p999_2071-2100.nc', '/work/cmcc/dg07124/climax/indicators/cordex2/tempPercentiles/anomalies/tasmax_EUR-11_ICHEC-EC-EARTH_rcp45_diff_SMHI-RCA4_v1_p999_2071-2100.nc', '/work/cmcc/dg07124/climax/indicators/cordex2/tempPercentiles/anomalies/tasmax_EUR-11_ICHEC-EC-EARTH_rcp45_diff_KNMI-RACMO22E_v1_p999_2071-2100.nc', '/work/cmcc/dg07124/climax/indicators/cordex2/tempPercentiles/anomalies/tasmax_EUR-11_MOHC-HadGEM2-ES_rcp45_diff_SMHI-RCA4_v1_p999_2071-2100.nc', '/work/cmcc/dg07124/climax/indicators/cordex2/tempPercentiles/anomalies/tasmax_EUR-11_ICHEC-EC-EARTH_rcp45_diff_DMI-HIRHAM5_v2_p999_2071-2100.nc', '/work/cmcc/dg07124/climax/indicators/cordex2/tempPercentiles/anomalies/tasmax_EUR-11_NCC-NorESM1-M_rcp45_diff_SMHI-RCA4_v1_p999_2071-2100.nc', '/work/cmcc/dg07124/climax/indicators/cordex2/tempPercentiles/anomalies/tasmax_EUR-11_ICHEC-EC-EARTH_rcp45_diff_CLMcom-CCLM4-8-17_v1_p999_2071-2100.nc', '/work/cmcc/dg07124/climax/indicators/cordex2/tempPercentiles/anomalies/tasmax_EUR-11_CNRM-CERFACS-CNRM-CM5_rcp45_diff_CNRM-ALADIN63_v2_p999_2071-2100.nc', '/work/cmcc/dg07124/climax/indicators/cordex2/tempPercentiles/anomalies/tasmax_EUR-11_MPI-M-MPI-ESM-LR_rcp45_diff_MPI-CSC-REMO2009_v1_p999_2071-2100.nc', '/work/cmcc/dg07124/climax/indicators/cordex2/tempPercentiles/anomalies/tasmax_EUR-11_MPI-M-MPI-ESM-LR_rcp45_diff_SMHI-RCA4_v1a_p999_2071-2100.nc']\n",
      "Standard deviation ensemble saved: /work/cmcc/dg07124/climax/indicators/cordex2/tempPercentiles/std_ensembles/tasmax_EUR-11_rcp45_ensemble_temp_std999_2071-2100.nc\n",
      "-------------------------\n",
      "['/work/cmcc/dg07124/climax/indicators/cordex2/tempPercentiles/anomalies/tasmax_EUR-11_MOHC-HadGEM2-ES_rcp85_diff_KNMI-RACMO22E_v2_p999_2041-2070.nc', '/work/cmcc/dg07124/climax/indicators/cordex2/tempPercentiles/anomalies/tasmax_EUR-11_NCC-NorESM1-M_rcp85_diff_GERICS-REMO2015_v1_p999_2041-2070.nc', '/work/cmcc/dg07124/climax/indicators/cordex2/tempPercentiles/anomalies/tasmax_EUR-11_ICHEC-EC-EARTH_rcp85_diff_KNMI-RACMO22E_v1_p999_2041-2070.nc', '/work/cmcc/dg07124/climax/indicators/cordex2/tempPercentiles/anomalies/tasmax_EUR-11_MOHC-HadGEM2-ES_rcp85_diff_DMI-HIRHAM5_v2_p999_2041-2070.nc', '/work/cmcc/dg07124/climax/indicators/cordex2/tempPercentiles/anomalies/tasmax_EUR-11_MOHC-HadGEM2-ES_rcp85_diff_SMHI-RCA4_v1_p999_2041-2070.nc', '/work/cmcc/dg07124/climax/indicators/cordex2/tempPercentiles/anomalies/tasmax_EUR-11_MPI-M-MPI-ESM-LR_rcp85_diff_SMHI-RCA4_v1a_p999_2041-2070.nc', '/work/cmcc/dg07124/climax/indicators/cordex2/tempPercentiles/anomalies/tasmax_EUR-11_NCC-NorESM1-M_rcp85_diff_SMHI-RCA4_v1_p999_2041-2070.nc', '/work/cmcc/dg07124/climax/indicators/cordex2/tempPercentiles/anomalies/tasmax_EUR-11_ICHEC-EC-EARTH_rcp85_diff_DMI-HIRHAM5_v2_p999_2041-2070.nc', '/work/cmcc/dg07124/climax/indicators/cordex2/tempPercentiles/anomalies/tasmax_EUR-11_ICHEC-EC-EARTH_rcp85_diff_CLMcom-CCLM4-8-17_v1_p999_2041-2070.nc', '/work/cmcc/dg07124/climax/indicators/cordex2/tempPercentiles/anomalies/tasmax_EUR-11_CNRM-CERFACS-CNRM-CM5_rcp85_diff_KNMI-RACMO22E_v2_p999_2041-2070.nc', '/work/cmcc/dg07124/climax/indicators/cordex2/tempPercentiles/anomalies/tasmax_EUR-11_ICHEC-EC-EARTH_rcp85_diff_SMHI-RCA4_v1_p999_2041-2070.nc', '/work/cmcc/dg07124/climax/indicators/cordex2/tempPercentiles/anomalies/tasmax_EUR-11_MPI-M-MPI-ESM-LR_rcp85_diff_MPI-CSC-REMO2009_v1_p999_2041-2070.nc', '/work/cmcc/dg07124/climax/indicators/cordex2/tempPercentiles/anomalies/tasmax_EUR-11_CNRM-CERFACS-CNRM-CM5_rcp85_diff_CNRM-ALADIN63_v2_p999_2041-2070.nc']\n",
      "Standard deviation ensemble saved: /work/cmcc/dg07124/climax/indicators/cordex2/tempPercentiles/std_ensembles/tasmax_EUR-11_rcp85_ensemble_temp_std999_2041-2070.nc\n",
      "-------------------------\n",
      "['/work/cmcc/dg07124/climax/indicators/cordex2/tempPercentiles/anomalies/tasmax_EUR-11_MOHC-HadGEM2-ES_rcp26_diff_DMI-HIRHAM5_v2_p999_2021-2050.nc', '/work/cmcc/dg07124/climax/indicators/cordex2/tempPercentiles/anomalies/tasmax_EUR-11_CNRM-CERFACS-CNRM-CM5_rcp26_diff_KNMI-RACMO22E_v2_p999_2021-2050.nc', '/work/cmcc/dg07124/climax/indicators/cordex2/tempPercentiles/anomalies/tasmax_EUR-11_NCC-NorESM1-M_rcp26_diff_SMHI-RCA4_v1_p999_2021-2050.nc', '/work/cmcc/dg07124/climax/indicators/cordex2/tempPercentiles/anomalies/tasmax_EUR-11_ICHEC-EC-EARTH_rcp26_diff_SMHI-RCA4_v1_p999_2021-2050.nc', '/work/cmcc/dg07124/climax/indicators/cordex2/tempPercentiles/anomalies/tasmax_EUR-11_ICHEC-EC-EARTH_rcp26_diff_CLMcom-CCLM4-8-17_v1_p999_2021-2050.nc', '/work/cmcc/dg07124/climax/indicators/cordex2/tempPercentiles/anomalies/tasmax_EUR-11_MPI-M-MPI-ESM-LR_rcp26_diff_SMHI-RCA4_v1a_p999_2021-2050.nc', '/work/cmcc/dg07124/climax/indicators/cordex2/tempPercentiles/anomalies/tasmax_EUR-11_ICHEC-EC-EARTH_rcp26_diff_KNMI-RACMO22E_v1_p999_2021-2050.nc', '/work/cmcc/dg07124/climax/indicators/cordex2/tempPercentiles/anomalies/tasmax_EUR-11_MOHC-HadGEM2-ES_rcp26_diff_KNMI-RACMO22E_v2_p999_2021-2050.nc', '/work/cmcc/dg07124/climax/indicators/cordex2/tempPercentiles/anomalies/tasmax_EUR-11_ICHEC-EC-EARTH_rcp26_diff_DMI-HIRHAM5_v2_p999_2021-2050.nc', '/work/cmcc/dg07124/climax/indicators/cordex2/tempPercentiles/anomalies/tasmax_EUR-11_MOHC-HadGEM2-ES_rcp26_diff_SMHI-RCA4_v1_p999_2021-2050.nc', '/work/cmcc/dg07124/climax/indicators/cordex2/tempPercentiles/anomalies/tasmax_EUR-11_MPI-M-MPI-ESM-LR_rcp26_diff_MPI-CSC-REMO2009_v1_p999_2021-2050.nc', '/work/cmcc/dg07124/climax/indicators/cordex2/tempPercentiles/anomalies/tasmax_EUR-11_NCC-NorESM1-M_rcp26_diff_GERICS-REMO2015_v1_p999_2021-2050.nc', '/work/cmcc/dg07124/climax/indicators/cordex2/tempPercentiles/anomalies/tasmax_EUR-11_CNRM-CERFACS-CNRM-CM5_rcp26_diff_CNRM-ALADIN63_v2_p999_2021-2050.nc']\n",
      "Standard deviation ensemble saved: /work/cmcc/dg07124/climax/indicators/cordex2/tempPercentiles/std_ensembles/tasmax_EUR-11_rcp26_ensemble_temp_std999_2021-2050.nc\n",
      "-------------------------\n",
      "['/work/cmcc/dg07124/climax/indicators/cordex2/tempPercentiles/anomalies/tasmax_EUR-11_MOHC-HadGEM2-ES_rcp85_diff_DMI-HIRHAM5_v2_p95_2071-2100.nc', '/work/cmcc/dg07124/climax/indicators/cordex2/tempPercentiles/anomalies/tasmax_EUR-11_MOHC-HadGEM2-ES_rcp85_diff_KNMI-RACMO22E_v2_p95_2071-2100.nc', '/work/cmcc/dg07124/climax/indicators/cordex2/tempPercentiles/anomalies/tasmax_EUR-11_ICHEC-EC-EARTH_rcp85_diff_SMHI-RCA4_v1_p95_2071-2100.nc', '/work/cmcc/dg07124/climax/indicators/cordex2/tempPercentiles/anomalies/tasmax_EUR-11_CNRM-CERFACS-CNRM-CM5_rcp85_diff_CNRM-ALADIN63_v2_p95_2071-2100.nc', '/work/cmcc/dg07124/climax/indicators/cordex2/tempPercentiles/anomalies/tasmax_EUR-11_NCC-NorESM1-M_rcp85_diff_SMHI-RCA4_v1_p95_2071-2100.nc', '/work/cmcc/dg07124/climax/indicators/cordex2/tempPercentiles/anomalies/tasmax_EUR-11_NCC-NorESM1-M_rcp85_diff_GERICS-REMO2015_v1_p95_2071-2100.nc', '/work/cmcc/dg07124/climax/indicators/cordex2/tempPercentiles/anomalies/tasmax_EUR-11_MOHC-HadGEM2-ES_rcp85_diff_SMHI-RCA4_v1_p95_2071-2100.nc', '/work/cmcc/dg07124/climax/indicators/cordex2/tempPercentiles/anomalies/tasmax_EUR-11_MPI-M-MPI-ESM-LR_rcp85_diff_SMHI-RCA4_v1a_p95_2071-2100.nc', '/work/cmcc/dg07124/climax/indicators/cordex2/tempPercentiles/anomalies/tasmax_EUR-11_ICHEC-EC-EARTH_rcp85_diff_KNMI-RACMO22E_v1_p95_2071-2100.nc', '/work/cmcc/dg07124/climax/indicators/cordex2/tempPercentiles/anomalies/tasmax_EUR-11_MPI-M-MPI-ESM-LR_rcp85_diff_MPI-CSC-REMO2009_v1_p95_2071-2100.nc', '/work/cmcc/dg07124/climax/indicators/cordex2/tempPercentiles/anomalies/tasmax_EUR-11_ICHEC-EC-EARTH_rcp85_diff_CLMcom-CCLM4-8-17_v1_p95_2071-2100.nc', '/work/cmcc/dg07124/climax/indicators/cordex2/tempPercentiles/anomalies/tasmax_EUR-11_ICHEC-EC-EARTH_rcp85_diff_DMI-HIRHAM5_v2_p95_2071-2100.nc', '/work/cmcc/dg07124/climax/indicators/cordex2/tempPercentiles/anomalies/tasmax_EUR-11_CNRM-CERFACS-CNRM-CM5_rcp85_diff_KNMI-RACMO22E_v2_p95_2071-2100.nc']\n",
      "Standard deviation ensemble saved: /work/cmcc/dg07124/climax/indicators/cordex2/tempPercentiles/std_ensembles/tasmax_EUR-11_rcp85_ensemble_temp_std95_2071-2100.nc\n",
      "-------------------------\n",
      "['/work/cmcc/dg07124/climax/indicators/cordex2/tempPercentiles/anomalies/tasmax_EUR-11_MOHC-HadGEM2-ES_rcp85_diff_KNMI-RACMO22E_v2_p95_2041-2070.nc', '/work/cmcc/dg07124/climax/indicators/cordex2/tempPercentiles/anomalies/tasmax_EUR-11_CNRM-CERFACS-CNRM-CM5_rcp85_diff_KNMI-RACMO22E_v2_p95_2041-2070.nc', '/work/cmcc/dg07124/climax/indicators/cordex2/tempPercentiles/anomalies/tasmax_EUR-11_ICHEC-EC-EARTH_rcp85_diff_DMI-HIRHAM5_v2_p95_2041-2070.nc', '/work/cmcc/dg07124/climax/indicators/cordex2/tempPercentiles/anomalies/tasmax_EUR-11_MPI-M-MPI-ESM-LR_rcp85_diff_MPI-CSC-REMO2009_v1_p95_2041-2070.nc', '/work/cmcc/dg07124/climax/indicators/cordex2/tempPercentiles/anomalies/tasmax_EUR-11_MOHC-HadGEM2-ES_rcp85_diff_DMI-HIRHAM5_v2_p95_2041-2070.nc', '/work/cmcc/dg07124/climax/indicators/cordex2/tempPercentiles/anomalies/tasmax_EUR-11_NCC-NorESM1-M_rcp85_diff_SMHI-RCA4_v1_p95_2041-2070.nc', '/work/cmcc/dg07124/climax/indicators/cordex2/tempPercentiles/anomalies/tasmax_EUR-11_MPI-M-MPI-ESM-LR_rcp85_diff_SMHI-RCA4_v1a_p95_2041-2070.nc', '/work/cmcc/dg07124/climax/indicators/cordex2/tempPercentiles/anomalies/tasmax_EUR-11_MOHC-HadGEM2-ES_rcp85_diff_SMHI-RCA4_v1_p95_2041-2070.nc', '/work/cmcc/dg07124/climax/indicators/cordex2/tempPercentiles/anomalies/tasmax_EUR-11_CNRM-CERFACS-CNRM-CM5_rcp85_diff_CNRM-ALADIN63_v2_p95_2041-2070.nc', '/work/cmcc/dg07124/climax/indicators/cordex2/tempPercentiles/anomalies/tasmax_EUR-11_ICHEC-EC-EARTH_rcp85_diff_SMHI-RCA4_v1_p95_2041-2070.nc', '/work/cmcc/dg07124/climax/indicators/cordex2/tempPercentiles/anomalies/tasmax_EUR-11_ICHEC-EC-EARTH_rcp85_diff_CLMcom-CCLM4-8-17_v1_p95_2041-2070.nc', '/work/cmcc/dg07124/climax/indicators/cordex2/tempPercentiles/anomalies/tasmax_EUR-11_NCC-NorESM1-M_rcp85_diff_GERICS-REMO2015_v1_p95_2041-2070.nc', '/work/cmcc/dg07124/climax/indicators/cordex2/tempPercentiles/anomalies/tasmax_EUR-11_ICHEC-EC-EARTH_rcp85_diff_KNMI-RACMO22E_v1_p95_2041-2070.nc']\n",
      "Standard deviation ensemble saved: /work/cmcc/dg07124/climax/indicators/cordex2/tempPercentiles/std_ensembles/tasmax_EUR-11_rcp85_ensemble_temp_std95_2041-2070.nc\n",
      "-------------------------\n",
      "['/work/cmcc/dg07124/climax/indicators/cordex2/tempPercentiles/anomalies/tasmax_EUR-11_ICHEC-EC-EARTH_rcp26_diff_KNMI-RACMO22E_v1_p95_2041-2070.nc', '/work/cmcc/dg07124/climax/indicators/cordex2/tempPercentiles/anomalies/tasmax_EUR-11_MOHC-HadGEM2-ES_rcp26_diff_KNMI-RACMO22E_v2_p95_2041-2070.nc', '/work/cmcc/dg07124/climax/indicators/cordex2/tempPercentiles/anomalies/tasmax_EUR-11_ICHEC-EC-EARTH_rcp26_diff_SMHI-RCA4_v1_p95_2041-2070.nc', '/work/cmcc/dg07124/climax/indicators/cordex2/tempPercentiles/anomalies/tasmax_EUR-11_MPI-M-MPI-ESM-LR_rcp26_diff_SMHI-RCA4_v1a_p95_2041-2070.nc', '/work/cmcc/dg07124/climax/indicators/cordex2/tempPercentiles/anomalies/tasmax_EUR-11_NCC-NorESM1-M_rcp26_diff_SMHI-RCA4_v1_p95_2041-2070.nc', '/work/cmcc/dg07124/climax/indicators/cordex2/tempPercentiles/anomalies/tasmax_EUR-11_MOHC-HadGEM2-ES_rcp26_diff_DMI-HIRHAM5_v2_p95_2041-2070.nc', '/work/cmcc/dg07124/climax/indicators/cordex2/tempPercentiles/anomalies/tasmax_EUR-11_MOHC-HadGEM2-ES_rcp26_diff_SMHI-RCA4_v1_p95_2041-2070.nc', '/work/cmcc/dg07124/climax/indicators/cordex2/tempPercentiles/anomalies/tasmax_EUR-11_NCC-NorESM1-M_rcp26_diff_GERICS-REMO2015_v1_p95_2041-2070.nc', '/work/cmcc/dg07124/climax/indicators/cordex2/tempPercentiles/anomalies/tasmax_EUR-11_CNRM-CERFACS-CNRM-CM5_rcp26_diff_CNRM-ALADIN63_v2_p95_2041-2070.nc', '/work/cmcc/dg07124/climax/indicators/cordex2/tempPercentiles/anomalies/tasmax_EUR-11_ICHEC-EC-EARTH_rcp26_diff_DMI-HIRHAM5_v2_p95_2041-2070.nc', '/work/cmcc/dg07124/climax/indicators/cordex2/tempPercentiles/anomalies/tasmax_EUR-11_MPI-M-MPI-ESM-LR_rcp26_diff_MPI-CSC-REMO2009_v1_p95_2041-2070.nc', '/work/cmcc/dg07124/climax/indicators/cordex2/tempPercentiles/anomalies/tasmax_EUR-11_CNRM-CERFACS-CNRM-CM5_rcp26_diff_KNMI-RACMO22E_v2_p95_2041-2070.nc', '/work/cmcc/dg07124/climax/indicators/cordex2/tempPercentiles/anomalies/tasmax_EUR-11_ICHEC-EC-EARTH_rcp26_diff_CLMcom-CCLM4-8-17_v1_p95_2041-2070.nc']\n",
      "Standard deviation ensemble saved: /work/cmcc/dg07124/climax/indicators/cordex2/tempPercentiles/std_ensembles/tasmax_EUR-11_rcp26_ensemble_temp_std95_2041-2070.nc\n",
      "-------------------------\n",
      "['/work/cmcc/dg07124/climax/indicators/cordex2/tempPercentiles/anomalies/tasmax_EUR-11_MPI-M-MPI-ESM-LR_rcp26_diff_SMHI-RCA4_v1a_p999_2041-2070.nc', '/work/cmcc/dg07124/climax/indicators/cordex2/tempPercentiles/anomalies/tasmax_EUR-11_MOHC-HadGEM2-ES_rcp26_diff_SMHI-RCA4_v1_p999_2041-2070.nc', '/work/cmcc/dg07124/climax/indicators/cordex2/tempPercentiles/anomalies/tasmax_EUR-11_ICHEC-EC-EARTH_rcp26_diff_DMI-HIRHAM5_v2_p999_2041-2070.nc', '/work/cmcc/dg07124/climax/indicators/cordex2/tempPercentiles/anomalies/tasmax_EUR-11_ICHEC-EC-EARTH_rcp26_diff_SMHI-RCA4_v1_p999_2041-2070.nc', '/work/cmcc/dg07124/climax/indicators/cordex2/tempPercentiles/anomalies/tasmax_EUR-11_NCC-NorESM1-M_rcp26_diff_GERICS-REMO2015_v1_p999_2041-2070.nc', '/work/cmcc/dg07124/climax/indicators/cordex2/tempPercentiles/anomalies/tasmax_EUR-11_MOHC-HadGEM2-ES_rcp26_diff_DMI-HIRHAM5_v2_p999_2041-2070.nc', '/work/cmcc/dg07124/climax/indicators/cordex2/tempPercentiles/anomalies/tasmax_EUR-11_CNRM-CERFACS-CNRM-CM5_rcp26_diff_CNRM-ALADIN63_v2_p999_2041-2070.nc', '/work/cmcc/dg07124/climax/indicators/cordex2/tempPercentiles/anomalies/tasmax_EUR-11_ICHEC-EC-EARTH_rcp26_diff_CLMcom-CCLM4-8-17_v1_p999_2041-2070.nc', '/work/cmcc/dg07124/climax/indicators/cordex2/tempPercentiles/anomalies/tasmax_EUR-11_CNRM-CERFACS-CNRM-CM5_rcp26_diff_KNMI-RACMO22E_v2_p999_2041-2070.nc', '/work/cmcc/dg07124/climax/indicators/cordex2/tempPercentiles/anomalies/tasmax_EUR-11_MOHC-HadGEM2-ES_rcp26_diff_KNMI-RACMO22E_v2_p999_2041-2070.nc', '/work/cmcc/dg07124/climax/indicators/cordex2/tempPercentiles/anomalies/tasmax_EUR-11_NCC-NorESM1-M_rcp26_diff_SMHI-RCA4_v1_p999_2041-2070.nc', '/work/cmcc/dg07124/climax/indicators/cordex2/tempPercentiles/anomalies/tasmax_EUR-11_MPI-M-MPI-ESM-LR_rcp26_diff_MPI-CSC-REMO2009_v1_p999_2041-2070.nc', '/work/cmcc/dg07124/climax/indicators/cordex2/tempPercentiles/anomalies/tasmax_EUR-11_ICHEC-EC-EARTH_rcp26_diff_KNMI-RACMO22E_v1_p999_2041-2070.nc']\n",
      "Standard deviation ensemble saved: /work/cmcc/dg07124/climax/indicators/cordex2/tempPercentiles/std_ensembles/tasmax_EUR-11_rcp26_ensemble_temp_std999_2041-2070.nc\n",
      "-------------------------\n",
      "['/work/cmcc/dg07124/climax/indicators/cordex2/tempPercentiles/anomalies/tasmax_EUR-11_NCC-NorESM1-M_rcp45_diff_SMHI-RCA4_v1_p999_2021-2050.nc', '/work/cmcc/dg07124/climax/indicators/cordex2/tempPercentiles/anomalies/tasmax_EUR-11_MPI-M-MPI-ESM-LR_rcp45_diff_MPI-CSC-REMO2009_v1_p999_2021-2050.nc', '/work/cmcc/dg07124/climax/indicators/cordex2/tempPercentiles/anomalies/tasmax_EUR-11_CNRM-CERFACS-CNRM-CM5_rcp45_diff_KNMI-RACMO22E_v2_p999_2021-2050.nc', '/work/cmcc/dg07124/climax/indicators/cordex2/tempPercentiles/anomalies/tasmax_EUR-11_MOHC-HadGEM2-ES_rcp45_diff_DMI-HIRHAM5_v2_p999_2021-2050.nc', '/work/cmcc/dg07124/climax/indicators/cordex2/tempPercentiles/anomalies/tasmax_EUR-11_MOHC-HadGEM2-ES_rcp45_diff_SMHI-RCA4_v1_p999_2021-2050.nc', '/work/cmcc/dg07124/climax/indicators/cordex2/tempPercentiles/anomalies/tasmax_EUR-11_ICHEC-EC-EARTH_rcp45_diff_KNMI-RACMO22E_v1_p999_2021-2050.nc', '/work/cmcc/dg07124/climax/indicators/cordex2/tempPercentiles/anomalies/tasmax_EUR-11_ICHEC-EC-EARTH_rcp45_diff_DMI-HIRHAM5_v2_p999_2021-2050.nc', '/work/cmcc/dg07124/climax/indicators/cordex2/tempPercentiles/anomalies/tasmax_EUR-11_ICHEC-EC-EARTH_rcp45_diff_CLMcom-CCLM4-8-17_v1_p999_2021-2050.nc', '/work/cmcc/dg07124/climax/indicators/cordex2/tempPercentiles/anomalies/tasmax_EUR-11_MPI-M-MPI-ESM-LR_rcp45_diff_SMHI-RCA4_v1a_p999_2021-2050.nc', '/work/cmcc/dg07124/climax/indicators/cordex2/tempPercentiles/anomalies/tasmax_EUR-11_ICHEC-EC-EARTH_rcp45_diff_SMHI-RCA4_v1_p999_2021-2050.nc', '/work/cmcc/dg07124/climax/indicators/cordex2/tempPercentiles/anomalies/tasmax_EUR-11_NCC-NorESM1-M_rcp45_diff_GERICS-REMO2015_v1_p999_2021-2050.nc', '/work/cmcc/dg07124/climax/indicators/cordex2/tempPercentiles/anomalies/tasmax_EUR-11_CNRM-CERFACS-CNRM-CM5_rcp45_diff_CNRM-ALADIN63_v2_p999_2021-2050.nc', '/work/cmcc/dg07124/climax/indicators/cordex2/tempPercentiles/anomalies/tasmax_EUR-11_MOHC-HadGEM2-ES_rcp45_diff_KNMI-RACMO22E_v2_p999_2021-2050.nc']\n",
      "Standard deviation ensemble saved: /work/cmcc/dg07124/climax/indicators/cordex2/tempPercentiles/std_ensembles/tasmax_EUR-11_rcp45_ensemble_temp_std999_2021-2050.nc\n",
      "-------------------------\n",
      "['/work/cmcc/dg07124/climax/indicators/cordex2/tempPercentiles/anomalies/tasmax_EUR-11_ICHEC-EC-EARTH_rcp45_diff_CLMcom-CCLM4-8-17_v1_p95_2071-2100.nc', '/work/cmcc/dg07124/climax/indicators/cordex2/tempPercentiles/anomalies/tasmax_EUR-11_MOHC-HadGEM2-ES_rcp45_diff_DMI-HIRHAM5_v2_p95_2071-2100.nc', '/work/cmcc/dg07124/climax/indicators/cordex2/tempPercentiles/anomalies/tasmax_EUR-11_MOHC-HadGEM2-ES_rcp45_diff_KNMI-RACMO22E_v2_p95_2071-2100.nc', '/work/cmcc/dg07124/climax/indicators/cordex2/tempPercentiles/anomalies/tasmax_EUR-11_CNRM-CERFACS-CNRM-CM5_rcp45_diff_KNMI-RACMO22E_v2_p95_2071-2100.nc', '/work/cmcc/dg07124/climax/indicators/cordex2/tempPercentiles/anomalies/tasmax_EUR-11_NCC-NorESM1-M_rcp45_diff_SMHI-RCA4_v1_p95_2071-2100.nc', '/work/cmcc/dg07124/climax/indicators/cordex2/tempPercentiles/anomalies/tasmax_EUR-11_CNRM-CERFACS-CNRM-CM5_rcp45_diff_CNRM-ALADIN63_v2_p95_2071-2100.nc', '/work/cmcc/dg07124/climax/indicators/cordex2/tempPercentiles/anomalies/tasmax_EUR-11_ICHEC-EC-EARTH_rcp45_diff_DMI-HIRHAM5_v2_p95_2071-2100.nc', '/work/cmcc/dg07124/climax/indicators/cordex2/tempPercentiles/anomalies/tasmax_EUR-11_MPI-M-MPI-ESM-LR_rcp45_diff_MPI-CSC-REMO2009_v1_p95_2071-2100.nc', '/work/cmcc/dg07124/climax/indicators/cordex2/tempPercentiles/anomalies/tasmax_EUR-11_ICHEC-EC-EARTH_rcp45_diff_KNMI-RACMO22E_v1_p95_2071-2100.nc', '/work/cmcc/dg07124/climax/indicators/cordex2/tempPercentiles/anomalies/tasmax_EUR-11_NCC-NorESM1-M_rcp45_diff_GERICS-REMO2015_v1_p95_2071-2100.nc', '/work/cmcc/dg07124/climax/indicators/cordex2/tempPercentiles/anomalies/tasmax_EUR-11_ICHEC-EC-EARTH_rcp45_diff_SMHI-RCA4_v1_p95_2071-2100.nc', '/work/cmcc/dg07124/climax/indicators/cordex2/tempPercentiles/anomalies/tasmax_EUR-11_MOHC-HadGEM2-ES_rcp45_diff_SMHI-RCA4_v1_p95_2071-2100.nc', '/work/cmcc/dg07124/climax/indicators/cordex2/tempPercentiles/anomalies/tasmax_EUR-11_MPI-M-MPI-ESM-LR_rcp45_diff_SMHI-RCA4_v1a_p95_2071-2100.nc']\n",
      "Standard deviation ensemble saved: /work/cmcc/dg07124/climax/indicators/cordex2/tempPercentiles/std_ensembles/tasmax_EUR-11_rcp45_ensemble_temp_std95_2071-2100.nc\n",
      "-------------------------\n",
      "['/work/cmcc/dg07124/climax/indicators/cordex2/tempPercentiles/anomalies/tasmax_EUR-11_ICHEC-EC-EARTH_rcp45_diff_DMI-HIRHAM5_v2_p999_2041-2070.nc', '/work/cmcc/dg07124/climax/indicators/cordex2/tempPercentiles/anomalies/tasmax_EUR-11_MOHC-HadGEM2-ES_rcp45_diff_KNMI-RACMO22E_v2_p999_2041-2070.nc', '/work/cmcc/dg07124/climax/indicators/cordex2/tempPercentiles/anomalies/tasmax_EUR-11_ICHEC-EC-EARTH_rcp45_diff_CLMcom-CCLM4-8-17_v1_p999_2041-2070.nc', '/work/cmcc/dg07124/climax/indicators/cordex2/tempPercentiles/anomalies/tasmax_EUR-11_MPI-M-MPI-ESM-LR_rcp45_diff_SMHI-RCA4_v1a_p999_2041-2070.nc', '/work/cmcc/dg07124/climax/indicators/cordex2/tempPercentiles/anomalies/tasmax_EUR-11_MOHC-HadGEM2-ES_rcp45_diff_DMI-HIRHAM5_v2_p999_2041-2070.nc', '/work/cmcc/dg07124/climax/indicators/cordex2/tempPercentiles/anomalies/tasmax_EUR-11_MPI-M-MPI-ESM-LR_rcp45_diff_MPI-CSC-REMO2009_v1_p999_2041-2070.nc', '/work/cmcc/dg07124/climax/indicators/cordex2/tempPercentiles/anomalies/tasmax_EUR-11_ICHEC-EC-EARTH_rcp45_diff_SMHI-RCA4_v1_p999_2041-2070.nc', '/work/cmcc/dg07124/climax/indicators/cordex2/tempPercentiles/anomalies/tasmax_EUR-11_CNRM-CERFACS-CNRM-CM5_rcp45_diff_KNMI-RACMO22E_v2_p999_2041-2070.nc', '/work/cmcc/dg07124/climax/indicators/cordex2/tempPercentiles/anomalies/tasmax_EUR-11_ICHEC-EC-EARTH_rcp45_diff_KNMI-RACMO22E_v1_p999_2041-2070.nc', '/work/cmcc/dg07124/climax/indicators/cordex2/tempPercentiles/anomalies/tasmax_EUR-11_NCC-NorESM1-M_rcp45_diff_SMHI-RCA4_v1_p999_2041-2070.nc', '/work/cmcc/dg07124/climax/indicators/cordex2/tempPercentiles/anomalies/tasmax_EUR-11_NCC-NorESM1-M_rcp45_diff_GERICS-REMO2015_v1_p999_2041-2070.nc', '/work/cmcc/dg07124/climax/indicators/cordex2/tempPercentiles/anomalies/tasmax_EUR-11_CNRM-CERFACS-CNRM-CM5_rcp45_diff_CNRM-ALADIN63_v2_p999_2041-2070.nc', '/work/cmcc/dg07124/climax/indicators/cordex2/tempPercentiles/anomalies/tasmax_EUR-11_MOHC-HadGEM2-ES_rcp45_diff_SMHI-RCA4_v1_p999_2041-2070.nc']\n",
      "Standard deviation ensemble saved: /work/cmcc/dg07124/climax/indicators/cordex2/tempPercentiles/std_ensembles/tasmax_EUR-11_rcp45_ensemble_temp_std999_2041-2070.nc\n",
      "-------------------------\n",
      "['/work/cmcc/dg07124/climax/indicators/cordex2/tempPercentiles/anomalies/tasmax_EUR-11_NCC-NorESM1-M_rcp45_diff_GERICS-REMO2015_v1_p95_2041-2070.nc', '/work/cmcc/dg07124/climax/indicators/cordex2/tempPercentiles/anomalies/tasmax_EUR-11_MPI-M-MPI-ESM-LR_rcp45_diff_SMHI-RCA4_v1a_p95_2041-2070.nc', '/work/cmcc/dg07124/climax/indicators/cordex2/tempPercentiles/anomalies/tasmax_EUR-11_ICHEC-EC-EARTH_rcp45_diff_SMHI-RCA4_v1_p95_2041-2070.nc', '/work/cmcc/dg07124/climax/indicators/cordex2/tempPercentiles/anomalies/tasmax_EUR-11_CNRM-CERFACS-CNRM-CM5_rcp45_diff_KNMI-RACMO22E_v2_p95_2041-2070.nc', '/work/cmcc/dg07124/climax/indicators/cordex2/tempPercentiles/anomalies/tasmax_EUR-11_MPI-M-MPI-ESM-LR_rcp45_diff_MPI-CSC-REMO2009_v1_p95_2041-2070.nc', '/work/cmcc/dg07124/climax/indicators/cordex2/tempPercentiles/anomalies/tasmax_EUR-11_MOHC-HadGEM2-ES_rcp45_diff_KNMI-RACMO22E_v2_p95_2041-2070.nc', '/work/cmcc/dg07124/climax/indicators/cordex2/tempPercentiles/anomalies/tasmax_EUR-11_MOHC-HadGEM2-ES_rcp45_diff_DMI-HIRHAM5_v2_p95_2041-2070.nc', '/work/cmcc/dg07124/climax/indicators/cordex2/tempPercentiles/anomalies/tasmax_EUR-11_NCC-NorESM1-M_rcp45_diff_SMHI-RCA4_v1_p95_2041-2070.nc', '/work/cmcc/dg07124/climax/indicators/cordex2/tempPercentiles/anomalies/tasmax_EUR-11_ICHEC-EC-EARTH_rcp45_diff_CLMcom-CCLM4-8-17_v1_p95_2041-2070.nc', '/work/cmcc/dg07124/climax/indicators/cordex2/tempPercentiles/anomalies/tasmax_EUR-11_CNRM-CERFACS-CNRM-CM5_rcp45_diff_CNRM-ALADIN63_v2_p95_2041-2070.nc', '/work/cmcc/dg07124/climax/indicators/cordex2/tempPercentiles/anomalies/tasmax_EUR-11_ICHEC-EC-EARTH_rcp45_diff_DMI-HIRHAM5_v2_p95_2041-2070.nc', '/work/cmcc/dg07124/climax/indicators/cordex2/tempPercentiles/anomalies/tasmax_EUR-11_MOHC-HadGEM2-ES_rcp45_diff_SMHI-RCA4_v1_p95_2041-2070.nc', '/work/cmcc/dg07124/climax/indicators/cordex2/tempPercentiles/anomalies/tasmax_EUR-11_ICHEC-EC-EARTH_rcp45_diff_KNMI-RACMO22E_v1_p95_2041-2070.nc']\n",
      "Standard deviation ensemble saved: /work/cmcc/dg07124/climax/indicators/cordex2/tempPercentiles/std_ensembles/tasmax_EUR-11_rcp45_ensemble_temp_std95_2041-2070.nc\n",
      "-------------------------\n",
      "['/work/cmcc/dg07124/climax/indicators/cordex2/tempPercentiles/anomalies/tasmax_EUR-11_ICHEC-EC-EARTH_rcp26_diff_SMHI-RCA4_v1_p95_2021-2050.nc', '/work/cmcc/dg07124/climax/indicators/cordex2/tempPercentiles/anomalies/tasmax_EUR-11_MPI-M-MPI-ESM-LR_rcp26_diff_MPI-CSC-REMO2009_v1_p95_2021-2050.nc', '/work/cmcc/dg07124/climax/indicators/cordex2/tempPercentiles/anomalies/tasmax_EUR-11_NCC-NorESM1-M_rcp26_diff_GERICS-REMO2015_v1_p95_2021-2050.nc', '/work/cmcc/dg07124/climax/indicators/cordex2/tempPercentiles/anomalies/tasmax_EUR-11_ICHEC-EC-EARTH_rcp26_diff_CLMcom-CCLM4-8-17_v1_p95_2021-2050.nc', '/work/cmcc/dg07124/climax/indicators/cordex2/tempPercentiles/anomalies/tasmax_EUR-11_NCC-NorESM1-M_rcp26_diff_SMHI-RCA4_v1_p95_2021-2050.nc', '/work/cmcc/dg07124/climax/indicators/cordex2/tempPercentiles/anomalies/tasmax_EUR-11_MPI-M-MPI-ESM-LR_rcp26_diff_SMHI-RCA4_v1a_p95_2021-2050.nc', '/work/cmcc/dg07124/climax/indicators/cordex2/tempPercentiles/anomalies/tasmax_EUR-11_MOHC-HadGEM2-ES_rcp26_diff_KNMI-RACMO22E_v2_p95_2021-2050.nc', '/work/cmcc/dg07124/climax/indicators/cordex2/tempPercentiles/anomalies/tasmax_EUR-11_MOHC-HadGEM2-ES_rcp26_diff_DMI-HIRHAM5_v2_p95_2021-2050.nc', '/work/cmcc/dg07124/climax/indicators/cordex2/tempPercentiles/anomalies/tasmax_EUR-11_CNRM-CERFACS-CNRM-CM5_rcp26_diff_CNRM-ALADIN63_v2_p95_2021-2050.nc', '/work/cmcc/dg07124/climax/indicators/cordex2/tempPercentiles/anomalies/tasmax_EUR-11_ICHEC-EC-EARTH_rcp26_diff_DMI-HIRHAM5_v2_p95_2021-2050.nc', '/work/cmcc/dg07124/climax/indicators/cordex2/tempPercentiles/anomalies/tasmax_EUR-11_MOHC-HadGEM2-ES_rcp26_diff_SMHI-RCA4_v1_p95_2021-2050.nc', '/work/cmcc/dg07124/climax/indicators/cordex2/tempPercentiles/anomalies/tasmax_EUR-11_ICHEC-EC-EARTH_rcp26_diff_KNMI-RACMO22E_v1_p95_2021-2050.nc', '/work/cmcc/dg07124/climax/indicators/cordex2/tempPercentiles/anomalies/tasmax_EUR-11_CNRM-CERFACS-CNRM-CM5_rcp26_diff_KNMI-RACMO22E_v2_p95_2021-2050.nc']\n",
      "Standard deviation ensemble saved: /work/cmcc/dg07124/climax/indicators/cordex2/tempPercentiles/std_ensembles/tasmax_EUR-11_rcp26_ensemble_temp_std95_2021-2050.nc\n",
      "-------------------------\n"
     ]
    }
   ],
   "source": [
    "# Function to average files and save the ensemble\n",
    "def calculate_std_ensemble(files, output_file):\n",
    "    print(files)\n",
    "    datasets = [xr.open_dataset(f)['tasmax'].drop_vars('height', errors='ignore') for f in files]\n",
    "    ensemble_std = xr.concat(datasets, dim='model').std(dim='model')\n",
    "\n",
    "    # Assign coordinates from the first dataset\n",
    "    first_ds = xr.open_dataset(files[0])\n",
    "    ensemble_std = ensemble_std.assign_coords({'lon': first_ds['lon'], 'lat': first_ds['lat']})\n",
    "\n",
    "    # Save the averaged dataset\n",
    "    ensemble_std_ds = ensemble_std.to_dataset(name='tasmax')\n",
    "    ensemble_std_ds.to_netcdf(output_file)\n",
    "    print(f\"Standard deviation ensemble saved: {output_file}\")\n",
    "    print(\"-------------------------\")\n",
    "# Process each group\n",
    "for key, file_list in grouped_files.items():\n",
    "    scenario, threshold, time_period = key\n",
    "    output_filename = f\"tasmax_EUR-11_{scenario}_ensemble_temp_std{threshold}_{time_period}.nc\"\n",
    "    output_path = os.path.join(output_dir_std, output_filename)\n",
    "    calculate_std_ensemble(file_list, output_path)"
   ]
  },
  {
   "cell_type": "markdown",
   "id": "58a12200-0053-4e52-945e-844b6ad72543",
   "metadata": {},
   "source": [
    "## Contributors\n",
    "- Giuseppe Giugliano (giuseppe.giugliano@cmcc.it)\n",
    "- Carmela de Vivo (carmela.devivo@cmcc.it)\n",
    "- Daniela Quintero (daniela.quintero@cmcc.it)"
   ]
  }
 ],
 "metadata": {
  "kernelspec": {
   "display_name": "climax",
   "language": "python",
   "name": "climax"
  },
  "language_info": {
   "codemirror_mode": {
    "name": "ipython",
    "version": 3
   },
   "file_extension": ".py",
   "mimetype": "text/x-python",
   "name": "python",
   "nbconvert_exporter": "python",
   "pygments_lexer": "ipython3",
   "version": "3.11.9"
  }
 },
 "nbformat": 4,
 "nbformat_minor": 5
}
